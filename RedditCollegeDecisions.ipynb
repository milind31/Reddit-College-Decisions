{
  "nbformat": 4,
  "nbformat_minor": 0,
  "metadata": {
    "colab": {
      "name": "RedditCollegeDecisions.ipynb",
      "provenance": []
    },
    "kernelspec": {
      "name": "python3",
      "display_name": "Python 3"
    }
  },
  "cells": [
    {
      "cell_type": "markdown",
      "metadata": {
        "id": "fsuC3sf0SVpO"
      },
      "source": [
        "r/ApplyingToCollege is a subreddit for high school students to discuss college admissions. Every year, once admissions decisions are released, there are megathreads set up for students to discuss whether or not they got in and what their grades, test scores, extracurriculars, etc. were like so other students can gauge how competitive admissions were for that college in that year. In this notebook, I scrape all posts from the megathreads for UC Davis from the last 3 years; naively extract SAT scores, unweighted GPAs, and admissions statuses from these posts; and use k-nearest neighbors to predict a student's admission status given their SAT score and unweighted GPA.\r\n",
        "\r\n",
        "Disclaimer: My code attempts a very simple approach of taking two parameters to predict admission status and fails to take into account many other factors in the college admissions process such as extracurriculars, essays, family income, etc. This is definitely something I would like to improve upon in the future."
      ]
    },
    {
      "cell_type": "code",
      "metadata": {
        "id": "K85eOtxAldGf"
      },
      "source": [
        "#necessary libraries\r\n",
        "import urllib.request\r\n",
        "from bs4 import BeautifulSoup\r\n",
        "import re\r\n",
        "import numpy as np\r\n",
        "import matplotlib.pyplot as plt"
      ],
      "execution_count": null,
      "outputs": []
    },
    {
      "cell_type": "code",
      "metadata": {
        "id": "APRm-24emWf-"
      },
      "source": [
        "user_agent = 'Mozilla/5.0 (Macintosh; Intel Mac OS X 10_9_3) AppleWebKit/537.36 (KHTML, like Gecko) Chrome/35.0.1916.47 Safari/537.36'"
      ],
      "execution_count": null,
      "outputs": []
    },
    {
      "cell_type": "code",
      "metadata": {
        "id": "8U3tFfA9mP-a"
      },
      "source": [
        "extracted_comments = []\r\n",
        "def scrape():\r\n",
        "    for url in urls:\r\n",
        "        request = urllib.request.Request(url,headers={'User-Agent': user_agent})\r\n",
        "        html = urllib.request.urlopen(request).read()           \r\n",
        "        soup = BeautifulSoup(html,'html.parser')\r\n",
        "        comment_area = soup.find('div',attrs={'class':'commentarea'})\r\n",
        "        comments = comment_area.find_all('div', attrs={'class':'entry unvoted'})\r\n",
        "        for comment in comments: \r\n",
        "            if comment.find('form'):\r\n",
        "                comment_text = comment.find('div',attrs={'class':'md'}).text\r\n",
        "                extracted_comments.append(comment_text)"
      ],
      "execution_count": null,
      "outputs": []
    },
    {
      "cell_type": "markdown",
      "metadata": {
        "id": "5B59rRq6U5wl"
      },
      "source": [
        "For this notebook, I use megathreads for UC Davis as this was the school that gave me the best balance of clean and a large amount of data. Some other popular schools from r/ApplyingToCollege are listed below for easy substitution."
      ]
    },
    {
      "cell_type": "code",
      "metadata": {
        "id": "FyP8g-armGbp"
      },
      "source": [
        "#reddit pages for most popular schools\r\n",
        "urls = [\"https://old.reddit.com/r/ApplyingToCollege/comments/aync6m/official_2019_university_of_california_davis/?limit=500\", \"https://old.reddit.com/r/ApplyingToCollege/comments/83b3cn/uc_davis_stats_thread/?limit=500\",\r\n",
        "        \"https://old.reddit.com/r/ApplyingToCollege/comments/835n7c/uc_davis_decision_megathread/\"] #UC Davis\r\n",
        "#ucla urls = [\"https://old.reddit.com/r/ApplyingToCollege/comments/b3tyrj/official_2019_university_of_california_los/?limit=500\"]\r\n",
        "#usc urls = [\"https://old.reddit.com/r/ApplyingToCollege/comments/b3eemc/official_2019_university_of_southern_california/?limit=500\"]\r\n",
        "#mit urls = [\"https://old.reddit.com/r/ApplyingToCollege/comments/84gzgb/mit_statsdecisions_separate_megathread/?limit=500\"]\r\n",
        "#caltech urls = [\"https://old.reddit.com/r/ApplyingToCollege/comments/ayztkb/official_2019_california_institute_of_technology/?sort=new\"]\r\n",
        "#ucb urls = [\"https://old.reddit.com/r/ApplyingToCollege/comments/b5mcup/official_2019_university_of_california_berkeley/?limit=500\"]\r\n",
        "#brown urls = [\"https://old.reddit.com/r/ApplyingToCollege/comments/b5uqbs/official_2019_brown_university_megathread/?sort=new\"]\r\n",
        "#upenn urls = [\"https://old.reddit.com/r/ApplyingToCollege/comments/b5uqki/official_2019_university_of_pennsylvania/?sort=new\"]\r\n",
        "#columbia urls = [\"https://old.reddit.com/r/ApplyingToCollege/comments/b5uq26/official_2019_columbia_university_megathread/?sort=new\"]\r\n",
        "#cornell urls = [\"https://old.reddit.com/r/ApplyingToCollege/comments/b5ur0q/official_2019_cornell_university_megathread/?sort=new\"]\r\n",
        "#yale urls = [\"https://old.reddit.com/r/ApplyingToCollege/comments/b5up4c/official_2019_yale_university_megathread/?sort=new\"]\r\n",
        "#harvard urls = [\"https://old.reddit.com/r/ApplyingToCollege/comments/b5uovg/official_2019_harvard_university_megathread/?sort=new\"]\r\n",
        "#uchicago urls = [\"https://old.reddit.com/r/ApplyingToCollege/comments/b09yc2/official_2019_university_of_chicago_megathread/?sort=new\"]\r\n",
        "#stanford urls = [\"https://old.reddit.com/r/ApplyingToCollege/comments/b6dkt0/official_2019_stanford_university_megathread/?sort=new\"]\r\n",
        "#georgiatech urls = [\"https://old.reddit.com/r/ApplyingToCollege/comments/ayzu23/offical_2019_georgia_institute_of_technology/?sort=new\"]\r\n",
        "#jhu urls = [\"https://old.reddit.com/r/ApplyingToCollege/comments/b0fp4u/official_2019_johns_hopkins_university_megathread/?sort=new\"]"
      ],
      "execution_count": null,
      "outputs": []
    },
    {
      "cell_type": "code",
      "metadata": {
        "id": "RtuyIskjmX_i"
      },
      "source": [
        "scrape() #scrape data from specified urls"
      ],
      "execution_count": null,
      "outputs": []
    },
    {
      "cell_type": "code",
      "metadata": {
        "id": "l7qyNR94rkL5"
      },
      "source": [
        "statuses = []\r\n",
        "test_scores = []\r\n",
        "gpas = []"
      ],
      "execution_count": null,
      "outputs": []
    },
    {
      "cell_type": "code",
      "metadata": {
        "id": "j1Gx1PlXsjLk"
      },
      "source": [
        "sat_conversion_array = [1080, 1110, 1140, 1180, 1210, 1240, 1280, 1310, 1340, 1370, 1400, 1430, 1460, 1500, 1540, 1590] #used to convert from act to sat, uses the official 2018 act/sat concordance table"
      ],
      "execution_count": null,
      "outputs": []
    },
    {
      "cell_type": "markdown",
      "metadata": {
        "id": "7NprUkruV8eV"
      },
      "source": [
        "Below you can begin to see how this is a very naive approach. I basically assume the first occurence of all numbers with decimals from 3.0 to 4.0 to be unweighted GPA's (although they may actually be weighted GPA's or better yet just a number that has literally any other significance), numbers from 21 to 36 to be ACT scores, numbers ending in 0 from 1100 to 1600 to be SAT scores, and the first mention of one of the words 'accepted', 'rejected', 'denied' or 'waitlisted' to be the admissions status.\r\n",
        "\r\n",
        "However, due to the nature of these comments in the sense that they are typically formatted the same way, I am able to get away with a lot of these simplifications and recieve reasonable results. I think it may be possible to apply some sort of NLP model to get more accurate results, but that is beyond the scope of my knowledge at this point. "
      ]
    },
    {
      "cell_type": "code",
      "metadata": {
        "colab": {
          "base_uri": "https://localhost:8080/"
        },
        "id": "Oq0rGNAinAQ2",
        "outputId": "5ae03386-1e69-4fe6-c66a-37f046270bb4"
      },
      "source": [
        "#clean up comments to extract relevant info\r\n",
        "for i in range(len(extracted_comments)):\r\n",
        "  comment = extracted_comments[i]\r\n",
        "  comment = comment.lower()\r\n",
        "\r\n",
        "  accepted = re.search('accepted', comment)\r\n",
        "  rejected = re.search('rejected', comment)\r\n",
        "  denied = re.search('denied', comment)\r\n",
        "  waitlisted = re.search('waitlisted', comment)\r\n",
        "  numeric_data = re.findall('\\d*\\.?\\d+',comment) #all numbers in the comment\r\n",
        "\r\n",
        "  gpa = 0\r\n",
        "  test_score = 0\r\n",
        "  status = ''\r\n",
        "\r\n",
        "  for number in numeric_data:\r\n",
        "    if float(number) in range(21, 36): #act score, assume scores are above 21\r\n",
        "      test_score = sat_conversion_array[int(number) - 21]\r\n",
        "    elif float(number) in range(1100, 1600, 10): #sat score, assume scores are above 1100\r\n",
        "      test_score = int(number)\r\n",
        "    elif float(number) > 3 and float(number) <= 4 and '.' in str(number):\r\n",
        "      gpa = float(number)\r\n",
        "\r\n",
        "  if accepted and not rejected and not denied and not waitlisted:\r\n",
        "    status = 'accepted'\r\n",
        "  elif not accepted and (rejected or denied) and not waitlisted:\r\n",
        "    status = 'rejected'\r\n",
        "  elif not accepted and not rejected and not denied and waitlisted:\r\n",
        "    status = 'waitlisted'\r\n",
        "  \r\n",
        "  if gpa != 0 and test_score != 0 and status != '':\r\n",
        "    statuses.append(status)\r\n",
        "    test_scores.append(test_score)\r\n",
        "    gpas.append(gpa)\r\n",
        "  \r\n",
        "#extracted_comments"
      ],
      "execution_count": null,
      "outputs": [
        {
          "output_type": "execute_result",
          "data": {
            "text/plain": [
              "['Accepted: Genetics and Genomics\\nChinese-American Female, Out-of-State\\n-GPA: 3.8 (UW)\\nCurrently 5.3 (W), ~5.6 @ end of the year\\nClass rank (5/321)\\n-ACT: 33 (35 English, 34 Reading, 29 Math (rip), 32 Science, 11 Writing)\\n-13 AP Classes\\n-Decent amount of volunteer hours, several ECs, mediocre essays\\n',\n",
              " 'Accepted- Aerospace Engineering and Science \\nGPA 4.0 weighted(19/203), 3.8~ unweighted\\nSAT 1340\\nEcs: DnD DM (yes I included this), Math competitions, NHS, Model UN, cross country ski team, gaming club, and fantasy writing\\nOut of State white Male\\n(probably got in because no one else in my state applied)\\n',\n",
              " \"Accepted.\\n32 ACT\\nweighted: 4.3\\nunweighted: 3.9\\n5's on APUSH, Euro, AP Environmental Science\\nEC: nominated for USA national model UN team, debate captain of top 20 debate school nationally, captain of model un team (ranked top 10 globally), captain of mock trial, First place delegate at Harvard model UN, top 40 at nationals in public forum debate, top 10 debaters in state (california), interned at 9th circuit court of appeals,\\npretty bad volunteer stuff\\nessays 5/10 at best\\n\",\n",
              " 'Accepted! Is there a gc for admitted students? I would love to meet some of y’all \\n',\n",
              " 'Look for a facebook group  https://www.facebook.com/groups/134814757178549/  this might be it\\n',\n",
              " 'Accepted In-State:\\nAsian (Indian) Male\\nMajor: Managerial Economics\\nGPA: UW — 3.89/W — 4.59\\nSAT: 1540\\nMath 2: 800\\nAP Tests: Bio (3), US History (3), Lang (4), Chem (4), Calc BC (5)\\n',\n",
              " 'Admitted for Neurobiology. International, Asian ethinicity (lmao)\\nAverage 8.5/10\\nSAT 1370\\nECs: German language studies, Astronomy hobbies + national olympiad medals, Biology & Neuroscience hobbies + national olympiad participation\\nEssays: talked about art (drawing), love for astronomy, language studies, and overcoming my conflict in choosing to study either astronomy or biology\\n',\n",
              " 'congrats to those who got in, best of luck to waitlist, and hoping for the best for rejected ik you’ll thrive wherever u end up!!!\\naccepted!\\nmajor: managerial economics \\ngpa: 4.2\\nact: 34\\nother info: Asian American, first gen, female, in-state/sf area, solid ec’s n essays i believe \\n',\n",
              " 'Accepted! In state female. Undeclared. \\nSAT: 1360 (700R/680M), accidentally reported really crappy other SAT and subject tests\\nAPs: 5 classes (note that my school is small and offers only around 10 APs total), reported three test scores (3 on APUSH, 4 on AP Euro, and 5 on AP Lang)\\nGPA: UW 3.98, W 4.2 (again note that highest GPA at my school is around 4.5)\\nEC: Young Life participation, volunteered at a camp for 3 weeks over summer, yearbook editor, swim team captain...\\nEssays: interesting in my opinion\\nTop 10% of my class\\n',\n",
              " 'waitlisted :/\\nin state female\\n31ACT 3.85UW 4.05W\\napplied math major\\necs: dance, nhs, stem club, etc\\n4 APs, 4 honor classes\\ndoes anyone know percentage of acceptances off waitlist?? thxx\\n',\n",
              " 'That SAT score is quite low, that throws a wrench in your application honestly.\\n',\n",
              " 'You got in, congratulations! My apprehensions were unfounded!\\n',\n",
              " \"Thank you... it's fine, I thought so too. I just got lucky because my major is Math. Say if I applied through bioengineering (the major I want to pursue), I would have gotten rejected. I chose a non competitive major to increase my chance of getting accepted because I knew my SAT score was very low and I didnt take the Subject Tests.\\n\",\n",
              " 'I’m so happy!!! \\nAccepted 4.3 W around 4.12 UC gpa idk? 33ACT, decent essays, meh ecs, instate female\\nI applied for applied physics but will prolly change to BME\\n',\n",
              " \"Intl student accepted CSE\\nSAT 1540\\nGPA 3.97/4.0 UW (school doesn't weight)\\nSAT II 800 in math 2/chemistry/physics\\nsome Ecs but not so amazing\\n\",\n",
              " 'International student here! Accepted for CS !\\n',\n",
              " 'Rejected gang gang\\n',\n",
              " 'Accepted in-state CS\\n4.2/3.8 GPA\\n1490 SAT\\nAP: one 5, two 4s, one 3.\\nECs: i did band\\n',\n",
              " 'Waitlisted cs \\n4.2 GPA ACT 35\\n800 bio and math 2\\nAPs: 3 4s and 2 5s\\nECs : debate, XC, post production, dance\\n',\n",
              " 'UW 3.7 is probably it :/\\n',\n",
              " 'Rejected (CS)\\nACT: 30 (29 English, 31 Mathematics, 32 Reading, 29 Science, 10 Essay)\\nSAT: 680 Math II (I know this isn’t a good score)   :((\\nAP: 3 AP Language\\nEC: Vice President of Interact for 2 years (Rotary), Captain for Girls Waterpolo (Goalie) went to CIF, Swim: Manager / Statistician / Assistant Coach, CSF Scholar, unpaid internship with US Bankruptcy Court\\nGPA: 3.83 unweighted, 4.3  weighted\\nGotta say, I’m not surprised I got rejected, with such a competitive school and major\\n',\n",
              " \"Accepted as undecided Social Sciences. Asian-American male. 1440 SAT, 5's on APs Eng Lang, Calc BC, AB Subscore, USH. 4 on AP Chemistry (currently enrolled in AP Psych, AP Eng Lit, AP Stats). SAT II: 740 Math II, 710 USH. 3.8 UW, 4.2 Weighted.\\nExtracurriculars: math tutor (work), 4-year choir member/singer, choir president, leader of 2 school a cappella groups.\\n\",\n",
              " 'I will create an Instagram group chat and discord chat for those who got accepted and are looking for a roommate early! I need one myself so contact me if you would like to be added!!\\n',\n",
              " 'Did u ever make one I’m looking for a roommate right now\\n',\n",
              " 'Accepted to Genetics/Genomics as an OOS Chinese-American female!\\n\\nGPA: 4.0 W / 4.383 UW (5th out of 832)\\nSAT: 1550 (760/790/22)\\nACT: 36 (35/36/35/36)\\nSAT II: Math 2 (790), Bio M (740), Chem (730)\\nAP: 5 on Bio, Calc AB, Calc BC, Calc AB Subscore, Lang, Stats, APUSH & 4 on Chem, Physics C Mechanics\\n\\nCommunity Service/Work: MathCounts coach, tutoring\\nExtracurriculars: various STEM competitions, youth orchestra, Girls Who Code founder at my school, Summer Science Program (SSP)\\n',\n",
              " 'Those are some amazing stats! Congratulations!\\n',\n",
              " 'Thank you!\\n',\n",
              " 'amazing\\n',\n",
              " \"Accepted electrical engineering\\nAsian-Male (in state) , 1300 SATs - 660 Math, 640, Reading & Writing\\n0 AP's but am graduating with my AA degree and most of my IGETC completed, just need one class I think.\\nedit: GPA= 3.91W/4.13UW\\n\",\n",
              " 'accepted: biological sciences (in state)\\nhispanic male, UW 3.8 W 4.43, 1420 SAT\\nAP’s: 5 psych, 4 apush, 2 lang\\nIB: 4 bio\\nNational Hispanic Merit Scholar, 4 years band, 2 years leader, 4 clubs\\n',\n",
              " 'Thanks but I’m sure ur safety’s r just as gr9 dont worry too much tbh u just gotta know how to use ur resources wisely to get u to ur future goals in life\\nGood luck!\\n',\n",
              " 'rejected - computer science\\nGPA - 4.15 W, 3.8 UW\\nSAT - 1410 (680 R&W 730 Math), 8/7/8 essay\\nACT - 31 composite (35 english, 33 math, 33 reading, 24 science yikes), 10 essay\\nasian-american female instate\\n',\n",
              " 'Did u send your ACT too\\n',\n",
              " 'yeah\\n',\n",
              " \"Accepted - Animal Biology\\nWhite female, instate\\nUW 4.0, W 4.6, SAT 1460, reading 760 math 700,  Bio (M) Subject test 710\\n11 APs, 4's and 5's\\n\\u200b\\n\",\n",
              " 'Waitlisted for Computer Science & Engineering\\nAsian-American Female (In-State)\\nGPA: 3.8W / 4.2UW\\nSAT: 1290\\n',\n",
              " 'Any German majors? \\n',\n",
              " \"Rejected - UW 3.8,  W 4.6, SAT 1520  8 AP, 3 IB,  Instate,  Don't understand it???  \\n\",\n",
              " 'probably yield protect? I know someone with a 1600 SAT and probably good grades that got waitlisted\\n',\n",
              " 'Accepted - Biological Sciences \\nInternational \\n1410 SAT (690 English, 720 Math)\\n660 SAT Math II, 630 SAT Biology-E\\n108 TOEFL \\n',\n",
              " 'Accepted animal science \\nAsian \\n3.7 UW, 32 ACT \\npsych research, club leaders, cross country. \\n',\n",
              " 'Accepted (idk how tho lmao but I ain’t complaining!!!)\\n3.6 UW (I think)\\n4.2 W\\nSAT 1060; reading 550; math 510\\nEssay 5, 2, 5\\nNo Subject tests or ACT\\nMajor Microbiology\\nSome community service for local church\\nTop 11 out of 413\\nDid not pass any AP exams (4 AP classes (World History, Language, US History, Physics) taken and passed tho)\\nGood luck to those with no decisions yet and for those with decisions things are meant to be so don’t worry too much!!! Enjoy ur senior year while it still lasts.\\n',\n",
              " 'I though I was lucky. I got in with 1200 sat. Congrats.\\n',\n",
              " 'U r lucky!! Davis be rejecting a shit ton of ppl who did a lot better than we did !\\n',\n",
              " 'Fuck you man. Just kidding I hope you have an amazing time at Davis! I got rejected with a 3.8 UW 4.15W and 1150 SAT and I’m salty haha. I got into my safety though so who knows, maybe I’ll really like it there!\\n',\n",
              " 'Decision: Accepted for Biochemistry and Molecular Biology\\nDemographic: Asian (International)\\nGPA: NA (no rank)\\nSAT: 1510 (710 English, 800 Math, 19 Essay)\\nSAT II: Math II (800), Chemistry (800)\\nIB: 42/42 Predicted   B for TOK\\nEssays: 6/10\\nECs: Leader for a cappella club, iGEM, summer program\\n',\n",
              " 'Admitted for economics\\nGPA: 3.89 UW/ 4.1 W\\nSAT: 1430\\nEssays: No idea how to accurately self-evaluate these but I thought they were pretty dank\\nEC’s: Speech & debate team captain, 2 state level awards and 1 national, a few national awards for broadcast journalism, MUN, paid work experience for a summer, apart of my school’s nationally-awarded student section, young politicians club, spoken word poetry club (put together and sold 2 anthologies)\\n',\n",
              " 'Accepted into Biomedical engineering (pre med)\\n4.1111 Weighted 3.68 unweighted GPA\\n1400 SAT 690 English, 710 Math\\nMy essays were decent, maybe a 7/10\\n4 APs (3 4’s and a 2) + 4 this year\\nAfrican American Female\\nOut of state (Texas)\\nNot much extra curriculars or volunteering because I spend a lot of time working. Science national honor society and wrestling team captain. Soooo excited!! Can’t wait to be in Cali, go to such a great school, be away from my parents, and smoke legal tbh \\n',\n",
              " 'Decision: Accepted for Math\\nDemographic: White, female (in-state)\\nGPA: 4.65W (6/732)\\nACT: 35 (36 English, 35 Reading, 35 Math, 33 Science, 11 Essay)\\nSAT II: Math II (800), US History (800)\\nEssays: 6/10 (some of the worst essays I wrote for this process)\\nECs: 2-year captain for 2 varsity sports, sports editor for newspaper, stem cell research, camp counselor, paid and peer tutoring, secretary of math club, volunteer at local hospital\\n',\n",
              " 'Decision: Accepted for Economics\\nDemographic: Asian (in-state)\\nGPA: 4.65W (no rank)\\nSAT: 1570 (780 English, 790 Math, 8/8/8 Essay)\\nACT: 35 (36 English, 36 Reading, 32 Math, 34 Science, 10/10/10 Essay)\\nSAT II: Math II (800), Literature (770), Chinese (nonnative speaker, 700)\\nEssays: 8/10\\nECs: President of 4 clubs, involvement in 6, lots of volunteer work, good summer programs\\n',\n",
              " \"Accepted\\nEcon\\nSAT and subject tests - 1530, Math II 770, USH 760\\nGPA - Our school has a unique system but I think it's 4.4 weighted\\n9 APs\\n\",\n",
              " '+1\\n',\n",
              " 'Accepted\\nComputer Engineering\\nIn-state, Asian-american male\\nSAT w/ Writing 1530\\nSAT Subject Tests: 720 Math II, 650 Chemistry, 650 Physics\\nGPA: 3.9 / 4.28\\n3 APs + 2 this year (total 5)\\n',\n",
              " \"Accepted\\nComputer Science and Engineering\\nIn-State, Mexian-American Male\\nGPA: UW 4.0, UCW 4.34\\nSAT: 1500 (780 M, 720 RW), 16 Essay\\nSAT Subject: 750 Math II, 620 Chemistry\\nNo AP's offered, Dual-enrollment at Community College\\nEC's: Club programming teacher, MESA\\n\",\n",
              " 'Club programming must be very nice, being in control of clubs and all. Have you by chance heard of Qazi?\\n',\n",
              " 'Accepted for German \\nW GPA: 4.28\\nACT: 31\\nSAT: 1330\\nSAT Subjects: German (700) Math II (600)\\nECs: National German Exam (99th Percentile 4x), National German Olympics, Jugend Debattiert (German Youth Debate), German Club President \\nReaction: Nice 😎\\n',\n",
              " 'Accepted In Philosophy (pre-med)\\nIn-State \\nGPA W: 4.1\\nGPA UW 3.83\\nSAT: 1310 Essay: 19\\nSubject Tests: Bio E (720) and Math 2 (610)\\nAP Exams: World History(3), Statistics (4) and English Lang (5) \\nEC’s: Math tutor for 4 years, played in a regional orchestra for 3 years, lots of church volunteering, volleyball for a year, Key Club, and HOSA.\\n',\n",
              " 'Rejected for Computer Science and EE.\\n',\n",
              " 'Accepted for Communications!\\nAsian White mixed Female, instate\\nSAT: 1440, UW: 4.0, UCW: 4.3, no subject tests\\nGood ECs (class pres & drama pres) and i Think good essays \\n',\n",
              " 'Waitlist for Biology\\nSAT: 1400\\nGPA: 3.95 UW 4.05 W (2 APs excluding senior year, 1 honors)\\nNo subject tests \\nEC: 4 years of band, VP for 2 clubs, Prez for 1, Taekwondo, Volunteer for 4 years\\n',\n",
              " 'You delete it?\\n',\n",
              " 'is there a facebook group for the incoming class of 2023? \\n',\n",
              " 'Accepted in-state for Chemical Engineering! 1550 SAT, GPA: 4.43UC, 4.00UW\\n',\n",
              " 'Accepted! \\n30 ACT \\n38/45 IB predicted\\nInternational but born in California \\nProvost Award Recipient! \\n8/10 essays \\nLot of volunteer work\\nhypedddd\\n',\n",
              " \"Accepted for biochemistry and molecular bio\\nInternational (Hong Kong)\\nSAT: 1450 SAT II: 770bioM 730chem\\nA2 prediction: A*A*A\\nShit ECs except for some summer camps, no work experience\\nNo idea about the quality of essays since I didn't give it to anyone for proofread, literally typed and submitted those last second\\nSolid upward trend for grades though, had a couple of nice academic-related awards\\n\",\n",
              " 'Salty motherfucker\\n',\n",
              " 'Poli Sci major as well who was accepted!\\n',\n",
              " '1580 😳\\n',\n",
              " 'Accepted for Psychology!\\nSAT: 1520 (730R, 790M)\\nInternational, Asian female\\nIB Diploma predicted 42/45\\nGood ECs and essays (hopefully)\\n',\n",
              " 'im a asian american in bay area as well. Im currently freshman for cs at Davis. Your stats is very similar to you except I have higher gpa. I think is either your school is competitive that your class rank does not stand out or your essays didnt fly. However with your stats you cant totally get into schools with better cs program like uci which I got in as well. Good Luck!\\n',\n",
              " \"San Jose State is well known for its CS program despite being a CSU. You don't have to make your decision now, at least wait till all the decisions came out. I still believe you can get into schools like UCI or UCSD with your stats. My friend got rejected by UCD but he got into both UCSD and UCI. If you got waitlisted in schools, it might help if you wrote a waitlist essay to the school's admission. \\n\",\n",
              " 'Accepted for “ Neurobiology, Physiology, and Behavior”   \\nSAT: 1160\\nIn-state\\nGPA: 4.07W, 3.69UW\\n\\nI’m so grateful, but seeing all these students with amazing stats, yet they are rejected...why??\\n\\n',\n",
              " 'I think this shows how so many factors affect admissions and just stats don’t tell the whole picture. Like everyone’s essays, ec’s, competitiveness of their surrounding area, personal struggles and major is so different that just basing their chances on stats and then saying the reason they didn’t get in is yield protection is just a way of coping with the rejection.\\n& congrats on Davis! You’ll meet so many brilliant + hardworking students there good luck!!\\n',\n",
              " 'Thank you so much. I appreciate your comment because it changed my perspective on this whole thing. Again, thanks!!!\\n',\n",
              " 'Admissions officers aren’t dumb. They know those high stat people could do better, and someone like you would be perfect for their school. The chance that you would enroll to davis is more likely then they are, and thats what they want.\\n',\n",
              " 'Alright buddy. Chill with the yield protection whining. We’ve all heard it. Your tone isn’t great either.\\n',\n",
              " \"yield protection isn't real. y'all essays just suck  ¯\\\\_(ツ)_/¯ \\n\",\n",
              " 'bruh I never said it existed. I just said that he was finna talk about it because he thinks he has superior stats or some bullshit\\n',\n",
              " 'Watch yourself young blood. You’re an upcoming senior and the time to freak out is not now. Trust me.\\n',\n",
              " \"Rejected CS\\n1520 SAT In state 3.7 /4.1 790 Math II\\nI'm literally getting rejected everywhere. Also fuck University of  Cow Dung\\n\",\n",
              " 'where else have you gotten rejected from? same stats and major\\n',\n",
              " 'Georgia Tech CS, Waitlisted UIUC, Rejected UChicago and Duke (EDs, understood these ones for sure)\\n',\n",
              " 'Decision: Accepted\\nMajor: Biomedical Engineering\\nDemographic: First generation Indian male in Midwest\\nAP\\nSAT: 1490 (790 English, 700 Math)\\n750 Math(2) 790 Bio E\\nRecommendations: Lang(10/10) | Chem (6/10) | Counsellor (10/10)\\nEssays: 4/10 I wrote them in half an hour before the deadline, pure garbage\\nExtra-currciulars: parents and research is what I believe to be the main reason for my acceptance \\n',\n",
              " 'mechE\\nthicc accept\\n1550 sat\\n4.73 gpa 4.00uw\\necs: frc, scioly, middle school programming tutoring\\nin-state\\n',\n",
              " 'Decision: Accepted\\nMajor: Computer Engineering\\nDemographic: Indian male (living in India)\\nTOEFL: 112/120\\nIB predicted: 42/45\\nSAT: 1520 (730 English, 790 Math)\\n800 Math(2) 800 Physics\\nRecommendations: Phys(10/10) | Chem (9/10) | Counsellor (10/10)\\nEssays: 9/10\\nExtra-currciulars: sexy af\\n\\u200b\\n\\u200b\\n',\n",
              " 'decision: waitlisted\\nmajor: computer science and engineering\\nGPA: 4.15 w, 3.83 uw\\nSAT: 1490 (690 English, 800 Math)\\n800 Math2 780 Chem\\n',\n",
              " 'waitlisted\\n1360 SAT\\n4.04 W 3.7 UW\\nMajor: psychology \\n',\n",
              " 'Accepted for computer science with provost, OOS,\\nIB predicted 45/45,\\nSAT - 1540,\\nMath 2 800,\\nChem 790\\n',\n",
              " \"Accepted for Economics as an International Student\\nIB Classes but no Certificates, TOK, EE, CAS (32/42)\\nIB Predicted (35/42)\\nSAT (1560/1600)\\nTOEFL (114/120)\\nNot so great EC's and Essays (IMO)\\n\",\n",
              " 'Accepted Applied Mathematics\\nInternational (Indian guy)\\n40/45 IB\\n1540 SAT \\n800 M2\\n790 Chem \\n10/10 essays\\nGreat ECs \\n',\n",
              " 'yeee boi\\n\\u200b\\n',\n",
              " 'I still hate that you know my username ffs\\n',\n",
              " 'lmaoo\\n',\n",
              " 'Accepted !!\\n4.13 GPA\\nGood essays\\n25 ACT\\n',\n",
              " \"Waitlisted\\nIn-state for chemistry\\n3.7 uw, 4.18 w, 4.09 uc capped\\n1490 sat\\nDecent/good-ish essays\\nMeh ec's \\nCongrats to everyone who got in!! \\n\",\n",
              " \"Accepted for CS with Regents\\nUC Uncapped GPA: 4.58\\nUnweighted: 4.0\\nACT: 36\\nSAT: 1530\\nMath Lvl 2: 800\\nPhysics: 790\\n5 AP classes taken (all 5s)\\nDecent EC's and essays, nothing special about them\\n\",\n",
              " 'Rejected :(( \\n1470 sat (780 math and 690 writing), \\n800 Chem, 780 phys,  780 math 2, \\nlots of good ECs, good essays (?) \\noos female, bioengineering. \\nIs it just me or was us davis hella selective this year :/\\n',\n",
              " \"Rejected from Mechanical engineering\\nGPA: 3.7/4.0\\nSAT: 1540\\nSubject Tests: Chem 690, Math 2 800\\nDecent EC's and essays\\n\",\n",
              " 'Waitlisted :(\\nComp Eng, In State\\n3.7 UW, 4.3 W, 33 ACT \\nMy first UC decision and I already hate them lol\\n',\n",
              " 'Accepted for CS!\\nStats:\\n• 4.3 GPA weighted / 3.95ish unweighted\\n• 1470 SAT, 760 Math 2 subject test\\n• In-state, female\\n',\n",
              " \":( similar stats, rejected. I'm a guy\\n\",\n",
              " 'I’m sorry to hear that :( but with those stats I’m confident you’ll still end up in a great school! Keep ur head up u got this \\n',\n",
              " 'thank you!\\n',\n",
              " 'Accepted for CS as  OOS, with Provost scholarship\\n1510/18 SAT, 800 Math 2, 790 Physics\\n111 TOEFL if that counts too\\n',\n",
              " 'Accepted as undeclared!\\n3.5 UW 4.0 W\\n36 ACT | 800 Math 2 | 740 Chem\\nMost intensive course-load and pretty good ECs imo\\nGPA is def on the low end tho\\n',\n",
              " 'I got accepted for Physics!\\nSAT: 1340\\nUW GPA: 3.88\\nW GPA: 4.23\\n',\n",
              " 'Accepted for materials engineering with a 1550 SAT, 3.9 UW and 4.42 UC GPA\\nEssays are pretty solid\\n9 APs: 6 taken. Four 5s and two 4s\\n4 years track, 3 years cross country, one year football, one year wrestling, 2 years club soccer (captain), member of CSF and Save the Bay clubs 2 years, and assistant coached soccer 2 years.\\n',\n",
              " 'Acccepted 1300 - 3.8 UW\\n',\n",
              " 'accepted!\\nmajor: managerial economics! \\nlocation: in-state, bay area \\nact: 34\\nuc gpa: 4.2\\nessays: pretty unique n solid i’d like to say\\nec: ^\\ncongrats to everyone who got in! and best of luck to everyone with their remaining schools! \\n',\n",
              " 'Rejected from Mechanical Engineering\\n4.22 uc gpa(capped)\\n1530 Sat 800M 730R&W\\n800 Math2 subject 780 Physics subject\\nGood extracurriculurs dont wanna go into them.\\nGood school rated 9/10 for some california thing\\nIn state obvo\\n7 aps 6 5s 1 4(Physics C mech and em, apush(4), comp sci, calc bc and ab, psych)\\nDoes Davis do yield? My friend who has better stats than me also got rejected and friends with similar stats were waitlisted. Has this happened to anyone else?\\n',\n",
              " 'Yeah I got wait listed too for Mech E with similar stats\\n',\n",
              " 'ur ba\\n',\n",
              " 'No u\\n',\n",
              " '⠐⠄⠄⠄⠄⠄⠄⠄⠄⠄⠄⠄⠄⠄⠄⠄⠄⠄⠄⠄⠄⠄⠄⠄⠄⠄⠄⠄⠄⠂ ⠄⠄⣰⣾⣿⣿⣿⠿⠿⢿⣿⣿⣿⣿⣿⣿⣿⣿⣿⣿⣿⣿⣿⣿⣿⣿⣷⣆⠄⠄ ⠄⠄⣿⣿⣿⡿⠋⠄⡀⣿⣿⣿⣿⣿⣿⣿⣿⠿⠛⠋⣉⣉⣉⡉⠙⠻⣿⣿⠄⠄ ⠄⠄⣿⣿⣿⣇⠔⠈⣿⣿⣿⣿⣿⡿⠛⢉⣤⣶⣾⣿⣿⣿⣿⣿⣿⣦⡀⠹⠄⠄ ⠄⠄⣿⣿⠃⠄⢠⣾⣿⣿⣿⠟⢁⣠⣾⣿⣿⣿⣿⣿⣿⣿⣿⣿⣿⣿⣿⡄⠄⠄ ⠄⠄⣿⣿⣿⣿⣿⣿⣿⠟⢁⣴⣿⣿⣿⣿⣿⣿⣿⣿⣿⣿⣿⣿⣿⣿⣿⣷⠄⠄ ⠄⠄⣿⣿⣿⣿⣿⡟⠁⣴⣿⣿⣿⣿⣿⣿⣿⣿⣿⣿⣿⣿⣿⣿⣿⣿⣿⣿⠄⠄ ⠄⠄⣿⣿⣿⣿⠋⢠⣾⣿⣿⣿⣿⣿⣿⡿⠿⠿⠿⠿⣿⣿⣿⣿⣿⣿⣿⣿⠄⠄ ⠄⠄⣿⣿⡿⠁⣰⣿⣿⣿⣿⣿⣿⣿⣿⠗⠄⠄⠄⠄⣿⣿⣿⣿⣿⣿⣿⡟⠄⠄ ⠄⠄⣿⡿⠁⣼⣿⣿⣿⣿⣿⣿⡿⠋⠄⠄⠄⣠⣄⢰⣿⣿⣿⣿⣿⣿⣿⠃⠄⠄ ⠄⠄⡿⠁⣼⣿⣿⣿⣿⣿⣿⣿⡇⠄⢀⡴⠚⢿⣿⣿⣿⣿⣿⣿⣿⣿⡏⢠⠄⠄ ⠄⠄⠃⢰⣿⣿⣿⣿⣿⣿⡿⣿⣿⠴⠋⠄⠄⢸⣿⣿⣿⣿⣿⣿⣿⡟⢀⣾⠄⠄ ⠄⠄⢀⣿⣿⣿⣿⣿⣿⣿⠃⠈⠁⠄⠄⢀⣴⣿⣿⣿⣿⣿⣿⣿⡟⢀⣾⣿⠄⠄ ⠄⠄⢸⣿⣿⣿⣿⣿⣿⣿⠄⠄⠄⠄⢶⣿⣿⣿⣿⣿⣿⣿⣿⠏⢀⣾⣿⣿⠄⠄ ⠄⠄⣿⣿⣿⣿⣿⣿⣿⣷⣶⣶⣶⣶⣶⣿⣿⣿⣿⣿⣿⣿⠋⣠⣿⣿⣿⣿⠄⠄ ⠄⠄⣿⣿⣿⣿⣿⣿⣿⣿⣿⣿⣿⣿⣿⣿⣿⣿⣿⣿⠟⢁⣼⣿⣿⣿⣿⣿⠄⠄ ⠄⠄⢻⣿⣿⣿⣿⣿⣿⣿⣿⣿⣿⣿⣿⣿⣿⣿⠟⢁⣴⣿⣿⣿⣿⣿⣿⣿⠄⠄ ⠄⠄⠈⢿⣿⣿⣿⣿⣿⣿⣿⣿⣿⣿⣿⡿⠟⢁⣴⣿⣿⣿⣿⠗⠄⠄⣿⣿⠄⠄ ⠄⠄⣆⠈⠻⢿⣿⣿⣿⣿⣿⣿⠿⠛⣉⣤⣾⣿⣿⣿⣿⣿⣇⠠⠺⣷⣿⣿⠄⠄ ⠄⠄⣿⣿⣦⣄⣈⣉⣉⣉⣡⣤⣶⣿⣿⣿⣿⣿⣿⣿⣿⠉⠁⣀⣼⣿⣿⣿⠄⠄ ⠄⠄⠻⢿⣿⣿⣿⣿⣿⣿⣿⣿⣿⣿⣿⣿⣿⣿⣿⣿⣿⣶⣶⣾⣿⣿⡿⠟⠄⠄ ⠠⠄⠄⠄⠄⠄⠄⠄⠄⠄⠄⠄⠄⠄⠄⠄⠄⠄⠄⠄⠄⠄⠄⠄⠄⠄⠄⠄⠄⠄\\n',\n",
              " 'No you both\\n',\n",
              " 'if I applied for CS with an easier major as my backup and got waitlisted, do you think they considered me for the easier major or no?\\n',\n",
              " 'Rejected for CS\\nInternational \\nIB predicted: 40/45\\n',\n",
              " 'Same, not sure what my predicted is though\\n',\n",
              " 'Accepted :) \\n1600 SAT\\n4.67 W \\nEC and Essays were good. \\n',\n",
              " 'Accepted Biology major \\nIn-state\\nUW: 4.0 GPA\\nWeighted 10-11(this is what UCs use i think?): 4.42\\nWeighted 9-11: 4.3\\nSAT: 1460\\nOh yea and essays, Id say were pretty good? Heartfelt for sure lol, lots of hardship included\\n',\n",
              " \"Accepted for Mechanical Engineering!\\nUC GPA: 4.2\\nSAT: 670 Math; 610 Reading - 1280\\nSAT Subject: Math II: 620\\nACT: 26\\n7 AP's, Cross Country and Swimming Team Captain, 500+ Hours Community Service, Two Year Class Officer, and more\\nI'd say I had pretty good essays\\nReaction: First UC I've heard back from, happy to be accepted!\\n\",\n",
              " 'Built a school in Africa through program called buildOn and did Global Glimpse trip to San Juan, DR.\\n',\n",
              " 'Waitlisted\\nUndeclared, In-state\\n4.35 UC GPA,\\n36 ACT,\\n1570 SAT,\\n800 SAT 2 Math II,\\n770 SAT 2 Bio-M\\n',\n",
              " 'bro like how\\n\\u200b\\nthis some bs\\n',\n",
              " 'Idk sis feelsbad. Goes to show that even UCs have different criteria from each other bc I got into UCSB, UCSC, and UCI... :(((((\\n',\n",
              " \"Woah! It's your 1st Cakeday bangbangyangster! hug\\n\",\n",
              " \"Rejected: 3.3 UW, 3.5 W, 1330 SAT\\nWelp, first L of my college applications so far. With my stats and the fact that I applied for engineering I'm not too surprised though, I mainly applied since both my parents are alumni. I'm still holding out for UCR. Congrats to everyone who got in though!\\n\",\n",
              " 'Accepted instate applied physics 33ACT around 4.12 (?) UC GPA female\\n',\n",
              " 'Accepted for Political Science!\\n3.73 UW (9th-11th) and 4.44 W (UC Uncapped)\\nTop 10% of class \\n35 ACT/750 USH Sub Test/740 WH Sub Test\\nIn-state applicant \\nSuper happy!!\\n',\n",
              " 'CONGRATULATIONS!! DAVIS IS AWESOME! GO AGGIESSSSS!!\\n',\n",
              " \"ALSO GOOD JOB ON USING UR UNCAPPED AND NOT THE UC GPA!! because that's what actually matters...\\n\",\n",
              " \"Accepted in-state Chemistry! \\nSAT: 1480 (770 math though), ACT: 33 (31 math but 35 science); no subject tests\\nGPA UW/W: 3.925/4.53\\nI also took a CC course over the summer for a biology \\nFrankly, I'm surprised bc I wrote about skincare for one of my essays lol\\n\",\n",
              " 'Accepted Asian female OOS Computer science and engineering w/ Provost Award\\nSAT: 1600/Math II: 800/Bio M: 800\\nGPA W: 4.17\\nDecent essays and ECs (I hope)\\n',\n",
              " \"Accepted to CS\\nOOS but I study in India,\\n1430 SAT(770 math, 660 EBRW)\\n790 math level 2\\n700 physics\\nGood ECs-club leaderships, programming competitions etc.\\nI took the SAT without the essay and did better but it didn't count rip\\nAll the best, guys! Wherever you go to college, I'm sure you'll do just fine.\\n\",\n",
              " 'I got in!\\n4.1 W /3.9 UW\\n30 ACT / 1260 SAT\\nDual enrolled at a CC\\nMediocre ECs : 1 year of speech and debate (lol) and volunteer at a African organization\\nWork 2 Jobs, first gen, black female.\\n',\n",
              " 'Waitlisted for CS and Engineering. 4.0 uw, 4.7 w, 1510 \\n',\n",
              " 'me too :/.\\n4.29/1560\\n',\n",
              " 'Accepted econ (I think, forgot my major lol)\\n1480 sat 33 act 780 math ii\\n3.6 uw gpa lmao\\nFull ib \\nOut of state\\n',\n",
              " 'Accepted for chemical engineering! SAT: 1440, wGPA: 4.07, international \\nEC: \\n- internship at chemical company\\n- independent research project on the development of bioplastics \\n- founder and president of biotechnology club\\n- biotechnology summer camp \\n- and some random clubs I was in for a while\\n',\n",
              " 'Accepted Cog Sci (instate)\\nSAT: 1520 (800M, 720EBRW)\\nUC GPA: 4.17\\nECs: pretty solid, including a national award\\n',\n",
              " 'Rejected for CSE\\n4.07 UC GPA 3.79 UW\\n1550 SAT\\nIn state\\n',\n",
              " 'Accepted for CSE instate!!!!\\nSAT: 1590 UCGPA: 4.08\\nNotables: Black Belt in Martial Arts, Leadership (not sole leader) of School Robotics Team, and chronic medical condition.\\nI think something that really helped me was submitting my second semester grades through the application portal. My grades showed a serious downward trend during junior year that I wrote about and being able to show them straight As for my first semester of senior year probably boosted their confidence in me, despite my comparatively low GPA\\n',\n",
              " 'waitlisted in state for biomedical engineering\\nSAT: 1440\\nweigted GPA: 4.5\\nunweighted GPA: 3.96\\ndecent ECs related to major\\ngood essays\\n',\n",
              " 'Accepted For English! Was super worried this whole day but now I feel great. Still waiting on SB though, but I have some hope :)\\nIn-state \\nSAT - 1290\\nGPA - 4.27\\nGood EC’s, well written essays (I felt) \\nSome community college classes taken \\n',\n",
              " 'Accepted for Bio! \\nOOS \\nI was worried about the UC testing policy bc my highest composite SAT was a 1520  without the essay, but the composite when I took the essay was a 1420. I applied to 3 other UCs so I hope this doesnt mess my chances :(\\n',\n",
              " 'Pretty much the same thing happened to me with the sat essays lol. I wish I knew about it before but oh well\\n',\n",
              " \"Accepted for MechE! My first UC, 3 more to go, hopefully they go over well...\\nInternational Indian\\n34 ACT\\n800 Math 2, 770 Physics\\n112/120 TOEFL\\nRank: 4/55, predicted final result: 91%\\navg. EC's and transcripts, great essays\\n\",\n",
              " 'Accepted to Statistics! \\nIn state\\n4.33 UC Capped GPA, 1410 SAT \\n',\n",
              " 'Accepted Computer Science and Engineering\\n1500 SAT\\n4.6 UC W GPA, 3.96 UW \\n',\n",
              " 'Accepted bio\\nSat 1350\\nOOS\\n4.1 gpa \\nDecent ecs did an internship at hospital last summer which I wrote about\\n',\n",
              " 'Decision: Accepted (Computer Science)\\nSAT: 1540 (770 both)\\nSubject tests: 740 Math II, 710 Physics\\nUC GPA: 4.6 W/3.94 UW\\n',\n",
              " 'Accepted! 4.48 UW 3.8W 1400 SAT In-state with some solid essays \\n',\n",
              " \"Accepted (Chemistry Major)\\n3.88 UW 4.35 W 1570 SAT, Asian male, Instate\\nDecent Extracurriculars, don't want to think about my essays again (y i k e s) \\n\",\n",
              " 'Decision: Accepted for EE\\nHad a 1370 SAT score, fluffed up personal insight responses, non-major related ECs but I’ll take it for sure!\\n',\n",
              " 'accepted into cog sci!\\n1460 sat\\nidk what my uc gpa i think my weighted is 4.2 and my unweighted is 3.8\\nin-state\\npretty good essays i think\\ndecent ecs (debate, gs Gold Award etc) \\n',\n",
              " 'In with regents! 4.0 UW, 1580. \\n',\n",
              " 'Did anyone out of state receive their financial aid package?\\n',\n",
              " 'UCs dont do financial aid for OOS\\n',\n",
              " 'Oof. Oh well\\n',\n",
              " \"Does it matter if you're female or Asian?\\n\",\n",
              " 'Idk I just added cuz the chanceme posts usually have these \\n',\n",
              " 'Accepted!\\n1470 SAT\\n4.18 UC GPA, 3.79 UW\\nLAS In-State\\nGood essays and ECs\\n',\n",
              " 'Rejected :(\\n1430 SAT\\n3.96 UC GPA\\nCS Instate\\n',\n",
              " 'Rejected\\n33 ACT\\nUC gpa: 4.06 UW 3.81\\ninstate cognitive science\\n',\n",
              " 'Waitlist for Bio!\\n4.46 W 3.96 UW, 1500 SAT, Middle class Asian male from NorCal\\nDecent extracurriculars (viola, officer at 3 clubs, leader in a community service organization)\\n7/10 essays maybe \\nGood luck to everyone else on the waitlist! I might decline my place \\n',\n",
              " \"waitlisted\\nin state \\nUC GPA: 4.27 \\ntook rigorous course load (12 AP's and 3 Honors)\\nSAT: 1360 \\nno subject tests \\nEC: president of a club, tutoring, something else thats personal lol\\nessays: I don't know man, I can't really judge my own essays \\nvolunteer: 3-4 years in an organization and other place (just being really vague cause i don't want to go specific)\\nmajor: animal science\\n\\u200b\\nanyways.... awesome lol\\n\",\n",
              " \"Admitted to nutrition science with provost award, OOS 40/45 IB predicted, 1590 SAT, 800 M2, 800 BioM, Decent EC's, OK essays.\\n\",\n",
              " 'Waitlisted for CS\\n3.8 UW 4.2 UC GPA\\n1530 SAT\\nInstate B^(\\n',\n",
              " 'Rejected\\nIn state 3.9 W UC GPA\\n29 ACT\\nPretty Good ECs\\n',\n",
              " 'Rejected - aero engineering\\nIn state\\n3.3 UC GPA\\n1400\\nLeadership ECs and decent essays. Fuck me.\\n',\n",
              " 'rejected for cs ;—;\\n',\n",
              " 'Accepted into Civil Engineering!\\nStats:\\n-in state\\n-SAT: 1470\\nGPA: 4.21 UC GPA /  3.89 Unweighted\\n-No Subject Tests\\n-heavy commitment to sports\\n-I believe my essays were pretty good\\n',\n",
              " 'I thought UCSC decisions were out? I got in for bioengineering\\n',\n",
              " \"Ohhh okay\\nidk if this helps but I'm female Asian and I had a 1440 SAT and a 4.5 GPA and I got in for bioengineering\\n\",\n",
              " 'I feel really similarly. \\nRejected for CS:\\nUW: 3.7\\nUC GPA: 4.02\\nACT: 34\\n800 Math II and 700 US History\\nStrong Essays\\nStrong EC’s: Amazon software internship, founder and president of Girls Who Code Club, teach after school Python classes to kids. Drum captain of 2 different bands. \\nHaven’t heard from UCSC or SLO :(( \\n',\n",
              " 'yo this is super late, but I ended up not getting into SLO or UCSC. Got into USC instead and that’s where I’m going! Hope all is well with you and good luck for college!\\n',\n",
              " \"SLO is a stats game for CS, and they don't see the quality of extracurriculars (they only ask for hours) :O\\nI definitely think Santa Cruz will recognize this person's strong EC's in the next wave.\\n\",\n",
              " 'Instate Accepted\\n3.93UW/4.25 capped/1570/800 M2, P, C\\nChemical Engineering\\n',\n",
              " 'Instate Male Accepted\\nPhysics\\nUC UW GPA: 3.75\\nUC W GPA: 4.04 \\nACT: 34\\nMath II: 790\\nPhysics: 760\\nWorld History: 760\\nNot sure about the \"tiers\" of ECs but I was president/founder of a club and VP of another, I also had 5 major awards in varying prestige.\\nAlso not so sure about how good my essays were, but I tried hard on them.\\n\\u200b\\n\\u200b\\n',\n",
              " 'Accepted in state :)\\nMajor: Undeclared physical sciences\\nUC GPA: 4.18\\nSAT: 1560\\nSAT2: Math2: 760 U.SHistory: 720\\ngood ecs !\\n',\n",
              " 'waitlisted for econ :(\\nACT: 34\\nSATs: World History, Biology \\nUW: 3.8\\n',\n",
              " 'WOOT got in Cognitive Science!!! Anyone else get in cogsci??\\nEdit: someone asked, so I had a 4.2 gpa, 1540 sat. The thing is, I was super worried because I basically don’t go outside and do extracurriculars and had no awards etc. Also I had seen so many amazing people get rejected last year. But I’m in gals and bois\\n',\n",
              " 'Me! Congrats :-)\\n',\n",
              " 'U too 👏\\n',\n",
              " 'cog sci gangg\\n',\n",
              " 'Ayyyy\\n',\n",
              " 'How do you know about regents?\\n',\n",
              " 'Congrats!\\n',\n",
              " 'Accepted!\\nEnglish \\nNo GPA, IB\\nPredicted Grade: 42\\nACT: 35 \\n',\n",
              " 'Accepted in-state letters and sciences! \\nUCGPA: 4.2/4.1 UW 3.8\\nSAT 1520 \\nHonest and succinct essays\\nLots of leadership \\nI don’t think I’d go to Davis, but I definitely didnt expect to get in bc of my gpa. \\n',\n",
              " 'waitlisted\\naerospace engineering\\nuc gpa: 4.62 (4.0 unweighted)\\nsat: 1590\\nact: 35\\nmath 2: 800\\nchemistry: 770\\nspanish: 750\\nin-state female\\nalready got into cal poly slo and ucsb with regents so i’m not too disappointed & prob going to decline my place on the waitlist\\n',\n",
              " 'wtf how did u get waitlisted\\n\\u200b\\n',\n",
              " 'yield protecting\\n',\n",
              " 'Waitlisted.\\nMajor: Communications\\nSat: 1250\\nECS- Okay? Mid Tier I would say.\\nAsian, Male\\nGpa 3.9-4\\nLive close to UC Davis, First gen?\\n',\n",
              " 'Waitlisted\\nComputer Engineering\\nUC GPA: 4.5\\nW GPA: 4.4\\nSAT: 1560\\nMath II: 800\\nChem: 800\\nDecent Essays\\nMid tier ECs\\nEdit: In state, female\\n',\n",
              " \"99% sure u got YP'ed\\n\",\n",
              " \"I don't know how it could happen that you are waitlisted....\\n\",\n",
              " 'Davis is wack. Someone with UCB and UCSB  Regents ALONG with Irvine Honors was waitlisted. Regents is hard to get, let alone at Berkley. Davis also has a reputation for waitlisting people who get into top tier UCs and I’ve seen plenty of posts about people with crazy stats being waitlisted. \\n',\n",
              " 'Ok, thanks for info\\n',\n",
              " \"IDK either, I got a 10K annual scholarship for Purdue, UIUC, and UCR. I also got into UIUC's honor college. All for the same major as Davis. \\n\",\n",
              " 'Wow, cool! I am admitted to UIUC, but not to honor college. What is your dream school actually? Sorry for editing, simply too tired)))\\n',\n",
              " \"It's on my original comment? 1560 lol.\\nEdit: Don't really have a hardcore dream school, but I'd be off the walls if I got into Carnegie Mellon's comp sci and arts double degree. It's the only way my parents would let me take arts in college. \\n\",\n",
              " 'Edited already, my mistake\\n',\n",
              " 'LETS GO PENGUIN\\n',\n",
              " 'UC Regents in Bio Sci!! \\nIn-state Asian Male \\n1440 SAT, 35 ACT, 4.0 UW, 4.2 W GPA\\nFrom the Central Valley so not much availability for AP/Honors Courses\\n',\n",
              " 'Where does it say you got regents?\\n',\n",
              " 'I found it on my portal homepage under the second paragraph\\n“In recognition of your exceptional accomplishments, you have been awarded the prestigious Regents Scholarship and are invited to participate in the University Honors Program. You will receive a $30,000 scholarship distributed over your four years at UC Davis, priority course registration, extended library privileges and transcript notation. The honors program enhances your academic experience through close contact with faculty, additional research opportunities and a fourth-year honors project.”\\n',\n",
              " 'Wow that’s awesome, congrats!\\n',\n",
              " 'what were your ecs if youre comfortable sharing\\n',\n",
              " 'Key Club LTG\\nClass of 2019 VP\\nCSF Member\\nAltar Server at local parish\\nAcademic Decathlon\\nStar Trek Club VP/Founding Member\\nRocketry Club Founding Member\\n',\n",
              " 'congrats btw!! this is awesome!\\n',\n",
              " 'tysm!!\\n',\n",
              " 'ahh i def see how you got regents now\\n',\n",
              " \"Accepted to engineering. Got Provost award( $53,000 ).\\nActually, it is not my first-choice school, and I feel sorry that I took someone's else place who wanted to go to Davis a lot...\\n\",\n",
              " 'Accepted Out of State\\nBiological Sciences\\n4.29 UC GPA, 3.96 UW GPA\\n1360 SAT, no subject tests\\nDecent amount of ECs a lot dealing with service and robotics for 3 years\\n',\n",
              " 'Accepted for CS!\\nAsian male\\nIn state, 35 ACT, 4.5 GPA\\n760 Chem, 750 Math 2\\n',\n",
              " 'what were your ecs? if youre comfortable\\n',\n",
              " 'Waitlisted dawg with a 3.8 w gpa and 1150 sat comp engineering \\n',\n",
              " 'Nice\\n',\n",
              " 'Accepted in state \\n1150 sat\\n4.1 uc gpa\\nBiology\\nOk ECs\\nDecent essays \\n',\n",
              " 'Yield protection maybe?\\n',\n",
              " 'F\\n',\n",
              " 'holy shit I got rejected too wtf is going on your stats are crazy\\n',\n",
              " 'F\\n',\n",
              " 'F\\n',\n",
              " 'Waitlisted, Mathematics\\nInternational student\\n34 ACT, 3.88 GPA, 800 Math II 800 Physics 670 Literature.\\nNo APs, mediocre ECs\\nmediocre-to-bad Essays\\n',\n",
              " 'Accepted instate, computer engineering\\n1520, 4.33 UC gpa, 800 math 2\\n',\n",
              " 'Waitlisted for Comp Sci\\nIn-state\\n3.85 UW, 4.15 UC GPA\\n1530 SAT, Chinese 790, Bio 790, US History 720, Math 800\\n4 AP Tests: Bio 5, Chem 5, Psych 5, APUSH 4\\nBoring ECs, not much related to Comp Sci\\nEssays are alright\\n',\n",
              " 'waitlisted for international relations\\n4.23 UC GPA, 34 ACT, 770 Math II, 650 Spanish II\\nKinda bummed.  I want to go into business and my extracurriculars show that so UC Davis isn’t necessarily a good or top school for me. Still Just kinda pissed and sad and hope that it’s not indicative of my other UC Results like LA and Berkeley. :(\\n',\n",
              " 'It’s not. Davis has a reputation for waitlisting people who get into top tier UCs. Someone got UCB and UCSB Regents and still got waitlisted so no need to worry. School look for different things. \\n',\n",
              " 'I got a UCLA Supplemental Questionnaire so i hope that helps me get in :/\\n',\n",
              " 'Thanks :) makes me feel better lol\\n',\n",
              " \"Accepted for Poli Sci with Regents!\\nIn state\\n4.0 UW, 4.3 W, 1540 SAT\\nEC's: two internships on Congressional campaigns, volunteering as a tutor for disadvantaged kids\\nReally happy about the regents!\\n\",\n",
              " 'Decision: Accepted\\nUndeclared - Humanities\\nUC GPA 4.23, 1540 SAT, 760 Math II, 710 US History, 700 Chemistry\\nDecent ECs with lots of leadership\\nIn-State\\n',\n",
              " \"Accepted, ecology evolution and biodiversity!\\n1590 SAT, 3.9-ish unweighted idk UC gpa. I'm OOS\\n\",\n",
              " 'Rip Waitlisted for Mech E\\nGPA- 4.2\\nAct- 34\\nMath 2- 780 Physics- 760\\n',\n",
              " 'Accepted! \\n\\nComputer Science \\nSAT: 1370\\nACT: 31 \\n\\n',\n",
              " \"What's your UC GPA?\\n\",\n",
              " 'How do I calculate? I’ve had all A’s (4.0) throughout High School (and community college classes) but never had weighted grades, just unweighted. \\n',\n",
              " 'If you look up UC GPA calculator you can see what it is, but it takes a good couple min to plug everything in\\n',\n",
              " 'I’m too lazy, sorry lol. I have a 4.0 UW just don’t know UC conversion 😊\\n',\n",
              " 'Accepted Computer science and engineering 4.5 GPA and 1400 SAT 780 MATH2 FIRST UC HYPE\\n',\n",
              " 'congrats! what kind of ecs did you do? im trying to find ecs myself\\n',\n",
              " 'I have a chance me up from a couple months back, you should check it out :)\\n',\n",
              " 'thanks!\\n',\n",
              " 'Decision: Accepted\\nElectrical Engineering\\nUC GPA  4.2, 1540 SAT, 780 Math II, 800 Physics\\nGreat ECs with lots of leadership\\nOOS\\n',\n",
              " 'ACCEPTED TO COMPUTER ENGINEERING WITH A 3.6 UC GPA AND 1410 SAT\\n',\n",
              " 'bruh accepted with a 3.8 uc gpa 1450 sat into aerospace eng. \\n',\n",
              " 'Straight rejected 33 act, 770 math 2, 4.15 weighted non UC gpa. Applied mechanical engineering and had extracurricular like sports, volunteer  award, three years of work, and summer mechanical engineering program at UCSD \\n',\n",
              " \"Accepted for economics!\\nIn state\\n1470 SAT, 4.4 UC GPA\\n690 Chem, 770 Math II\\nDecent essays, average ECs, I'd be willing to give more info/essays to anyone interested!\\n\",\n",
              " 'Accepted CS  \\nInternational Asian Male  \\n41/45 IB predicted  \\nSAT: 1400   \\nEC: Internships, side projects, jobs etc \\n',\n",
              " \"I got accepted for Computer Science and Engineering with the Provost Award!\\n- International, but US Citizen\\n- GPA - like 64, 67% in junior and senior years. But that's the Indian curriculum, so can't say much \\n- ACT: 33 (34SS) \\n- Subject Sat - 780M2, 740P \\n- Pretty good ECs related to CS, decent essays\\n\",\n",
              " \"CBSE?? How much was ur 11th percentage and 12th predicted? LeL I got rejected but i got into SLO so I'm perfectly fine\\nAnd congratulations!!!!\\n\",\n",
              " 'Thank you! \\nI was studying in ISC. \\n64 in 11th, 88 predicted\\nI had p good cs/maths scores tho \\n',\n",
              " 'Accepted with Regents\\nAerospace Engineering (In State)\\n4.4 W(not UC), 3.9 UW, 35 ACT, 770 Math II\\n',\n",
              " 'Admitted Chemical engineering\\nInstate white girl\\n35 ACT, 4.67 GPA, 800 math 2, 800 chem\\n',\n",
              " 'Accepted for CSE\\nOOS Asian male\\n3.99 UW GPA, ib diploma\\n1580 sat\\n760 physics, 800 math2\\nMain ECs are robotics, a tech reviewing company I helped make, 4 years of orchestra\\nMeh essays\\n',\n",
              " 'Waitlisted CS\\nInstate Asian Male\\nGPA: 3.97 UW, 4.3 W\\nSAT: 1570 (8/7/8 essay)\\nSAT Subject: 800 Math 2, 770 Physics\\nECs: Varsity Tennis, Programming Club member, 300+ volunteer hours @ Korean School, Summer CS internship\\n',\n",
              " 'Seems like a fair number of high stat people got fucked this round :/ but you have UIUC CS and UCSB so it’s no big deal LOL\\n',\n",
              " 'Yield protection: 100\\n',\n",
              " 'Admitted Cognitive Science \\nIn State \\n35 ACT, 4.08 weighted (Sophmore Junior weighted was 4.2) \\n',\n",
              " 'Congrats!! I got in cogsci too\\n',\n",
              " 'Rejected\\nAerospace Engineering 3.7 GPA and 1350 SAT :(\\n',\n",
              " 'congratulations!! what were your ecs? (im a junior looking for ecs)\\n',\n",
              " 'In state?\\n',\n",
              " 'Congrats!\\n',\n",
              " 'Got rejected :( I honestly thought I’d get in. I felt like my stats are good and essays were decent. \\nCivil Engineering, 3.83 unweighted GPA, 1500 SAT \\nEdit: UC GPA is 4.21\\n',\n",
              " 'Oh man I applied for Civil Engineering too. Gonna check once I figure out my password.\\n',\n",
              " 'Good luck!\\n',\n",
              " 'Rejected ~ CS ~ 4.10 UC GPA ~ 1460 SAT(800 Math, 660 EBRW) ~ In state\\n',\n",
              " 'Same\\n',\n",
              " 'Rejected\\nBiological Sciences, 4.4 GPA, 1360 SAT\\n',\n",
              " 'Admitted!!\\nOut of state student (Florida)\\nMajor: economics\\nSAT: 1360\\nGPA weighted (not UC calculated): 4.4\\nGPA unweighted (not UC calculated): 3.8\\nI can’t wait to return back to Northern California and all my family that lives there!\\n',\n",
              " 'lmao, I got waitlisted for computer science (1590 SAT, 4.5 W, 4.0 UW, 800M, 800 Bio, 800 US, 790 Physics), but I got UCB L&S Regents, UCSB Regents, UCI Honors. Davis living up to its reputation of loving to waitlist people lol\\n',\n",
              " 'congrats on all your acceptances!! what were your ecs if you dont mind helping out a sad junior\\n',\n",
              " \"Dang, UCD lmao. Any chance it's yield protection?\\n\",\n",
              " 'ouchie. Well you got many great & better options there so no problems lmao. Congrats on that list, btw! Awesome achievements\\n',\n",
              " 'Ty :D\\n',\n",
              " 'Admitted for BME!\\n',\n",
              " 'Congrats!!\\n',\n",
              " 'Admitted Applied Math + regents + Provost\\nI’m hyped!\\n',\n",
              " 'In state?\\n',\n",
              " 'OOS\\n',\n",
              " \"Ah jealous!! I was telling myself that it's ok I didn't get regents bc OOS. \\nCongrats!!\\n\",\n",
              " 'DAMN how much $$ is that tho?!?!  Like almost a full ride?! CONGRATS!!\\n',\n",
              " '83k\\n',\n",
              " 'Woahhh congrats! Does it say all the scholarship awards in the letter?\\n',\n",
              " 'In the portal\\n',\n",
              " 'Admitted Biomedical Engineering  \\nFor some basic information:\\n\\n1550 SAT\\n36 ACT\\n4.05 UW/4.88 W GPA\\n760 Math 2 (SAT Subject)\\n750 Chemistry (SAT Subject)\\n\\nThings about me:\\n\\nnon legacy\\nCalifornia resident\\nfirst generation Filipina\\n\\nThe ECs, work experiences, and summer activities\\n\\ncreated nonprofit organization dedicated to globalizing literacy where my friends and I ran a book drive and traveled to the Philippines to donate books to three elementary schools there\\ncreated my school’s Equality in STEM club, a club that discusses social injustices within the STEM fields. I brought in various guest speakers and created a mentorship program between my high school and middle school where seniors mentor middle schoolers with their science fair projects\\nvolunteered at San Diego Safari Park as a Conservation Corps member where where I hosted information tables at the park and spoke to guests about current and relevant conservation issues\\nmember of the Academic Decathlon team, receiving various medals at county competitions\\ninterned at Boeing from my junior into senior year summer\\nproduced and wrote original music\\n\\nDistinctions\\n\\nCertificate of Excellence from the Department of Education in the Philippines for my work done through the nonprofit organization\\nChampion of the Fall Out Boy Fund Award — this one’s a weird one. I nominated my friend for the work done from our nonprofit organization to win a donation from the band Fall Out Boy and we ended up winning, getting tickets to see Fall Out Boy and meet them.\\nVarious student of the year awards (Adv. Sci. & Eng. Dept., AP Chemistry, Science)\\nNational AP Scholar\\n\\n',\n",
              " 'Waitlisted for CS mega oof\\n',\n",
              " 'stats?\\n',\n",
              " 'ME TOO\\n',\n",
              " 'Admitted Math and Computational Science!\\n4.0 UW 1540 SAT 800 Math II 720 Physics\\nAssociates in Mathematics\\n',\n",
              " 'Does regents notification come out with admittance?\\n',\n",
              " 'Aww Okayy the UCLA regents invitation brought my hopes up for other UCs\\n',\n",
              " 'Got in for economics! 35 ACT, IS, 3.91 UW, 4.26 W (UC GPA)\\n',\n",
              " 'Asian Female in state (so-cal)\\n',\n",
              " 'Decision: Rejected\\nInternational-Aerospace Engineering\\nAct-31\\nSat math level 2-800\\nSat chem-800\\n3rd in the graduating class \\nBiology olympiads\\nResearch paper about advanced glycation end products(Biochem)\\nOfficialy speak Russian,Turkish,French,English, and German\\nEssays: Probably bad\\n',\n",
              " 'admitted envi sci\\n4.0 UW\\n4.5 UC GPA \\n1440 SAT\\nin state\\n',\n",
              " 'Accepted for biomedical engineering! 1450 SAT, 4.0 UW, OOS!\\n',\n",
              " 'lmfao waitlisted but got in for berkeley + regents for mech e ??\\n',\n",
              " 'waitlisted for cs wtf\\n1550 sat, 4.0/4.6 uc gpa\\n',\n",
              " 'same with similar stats\\n',\n",
              " 'Again same lower gpa tho\\n',\n",
              " 'man this makes me nervous for the other ucs\\n',\n",
              " 'Seems like yield protection tho \\n',\n",
              " \"Me too I didn't even want to go to davis but now I'm scared.\\nBerkeley PLEASE TAKE ME\\n\",\n",
              " 'results are out, got waitlisted for cs :(\\n',\n",
              " 'stats?\\n',\n",
              " 'In state, 3.9/4.2, 35 act, 800 math II, 740 physics\\n',\n",
              " 'admitted cs w provost award\\n',\n",
              " 'Decisions are out! I got in for Computer Engineering!\\n',\n",
              " 'T-9 minutes\\n',\n",
              " 'Good luck to everyone!\\n',\n",
              " 'Does anyone know if they’re going to send an email or we have to learn through the portal\\n',\n",
              " 'Wondering about that also \\n',\n",
              " 'T minus 15 lads! Good luck to everyone!\\nCurrently dying from a horrible fever, I cannot wait to finally get this off my chest :))\\n',\n",
              " 'T-Minus 30 minutes!! Time to begin frantically refreshing the portal!\\n',\n",
              " '30 minutes. Wishing everyone good luck ❤️\\n',\n",
              " 'Good luck everyone!!\\n',\n",
              " 'Good luck\\n',\n",
              " 'T minus 45 minutes. Good luck to everyone :)\\n',\n",
              " 'good luck to all. we got this!!!💪\\n',\n",
              " 'thanks :) good luck to you too!\\n',\n",
              " 'Decision: Rejected\\n3.3UW, 4.0W, 35 ACT, 800 on Subject Tests(Math2, Physics, Chemistry) \\nMajor: Physics \\nEdit: in state btw:( it’s okay but I feel sad cause on my birthday lolz\\n',\n",
              " 'Happy birthday bb \\n',\n",
              " 'Thank u bb😭❤️\\n',\n",
              " 'good luck!\\n',\n",
              " 'Decision: Waitlisted\\nMajor: Computer Science Engineering\\nGPA: 3.9/4.2\\nACT: 35  Math II: 800  Physics: 740\\nIn-State\\n',\n",
              " 'T minus 2 hours?\\n',\n",
              " 'Updated:\\nI got in!!\\nFirst -choice major: Sociology - Organizational Studies \\ngood luck everyone!\\n-------------------------------------------------\\nDecision: Pending\\nSociology\\n4.1 UC W GPA, 3.82 UW,  SAT 1470, International but attend HS in state.\\n\\u200b\\n\\u200b\\n',\n",
              " 'pending\\n3.88 UC GPA, 36 ACT\\nbiology \\nin state\\n',\n",
              " 'update: rejected! i thought my essays were pretty good but maybe my gpa was just too low. anyways, was hoping i’d at least get waitlisted. kinda sucks oof\\n',\n",
              " 'nothing yet :0 \\nUW 3.78 W 4.03 SAT 1580 SAT Math II 760 SAT physics 780 \\nCS, instate\\nEDIT: waitlisted :         )\\nlmao bye\\n',\n",
              " '3.6 UW, 3.81 W, 32 ACT\\nComputer Engineering\\nRejected\\n',\n",
              " 'Decision: Waiting\\nElectrical Engineering\\nUC GPA  4.2 (Assuming I mathed correctly), 1540 SAT, 780 Math II, 800 Physics\\nOOS\\n',\n",
              " 'damn y’all are competitive\\nDecision: none yet\\nCommunications\\nUW: ~3.7 (I can’t find my transcript rn) W: 3.95 SAT: 1290 in state\\nEDIT: Got rejected lmao who saw that coming?? I did\\n',\n",
              " 'Decision: None Yet\\nBiological Sciences\\n4.2 UC W GPA, 3.87 UW, 34 ACT, In state\\n',\n",
              " '3 rejects already\\nDecision non yet\\nComputer science\\nUC GPA 4.2 UW 3.96 ACT 36 In state\\nDecent ECs: Math and Science olympiads, some Leadership positions, an internship with a city councilperson\\nSo nervous\\nUpdate: First Acceptance!\\n',\n",
              " \"With those stats who's rejected you??\\n\",\n",
              " 'Columbia, MIT, Caltech, yea ig I aimed pretty high but these rejections had kinda been taking a toll. Especially since I get paranioid easily.\\nAt least im going somewhere (sorry if I sound like a dick)\\nIm just relieved im going to college\\n',\n",
              " \"Ah makes sense. don't sweat it those colleges are super difficult to get into. Meanwhile I just got waitlisted by davis....\\n\",\n",
              " \"\\u200b\\ndon't worry man, you'll go somewhere. College doesn't determine your worth\\n\",\n",
              " \"I hope so. So far I've gotten into sjsu and calpoly SLO so I have SLO at least. but Davis was my first uc i heard back from so I'm sad. But I hope Berkeley or San Diego take me because those have been my top choices for years\\n\",\n",
              " 'Holy is SLO out?\\nGood luck :)\\n',\n",
              " 'for some majors.i got in for computer engineering but my friends in mechanical engineering and CS are still waiting.\\nand thanks (:\\n',\n",
              " 'UC Merced\\n',\n",
              " '\\nlmao, it will prolly be a yield rejection\\n\\n',\n",
              " 'Damn wtf\\n',\n",
              " \"I'm jk lol\\n\",\n",
              " 'Decision: Waitlisted\\nComputer Science and Engineering\\n4.29 GPA  3.94 UW 1560/34 SAT/ACT 800 Math II 760 Physics 700 Chem In-State\\n',\n",
              " 'Big rip 700 Chem\\n',\n",
              " 'I cry myself to sleep every night\\n',\n",
              " \"Aight this is pretty much my pre release ritual now:\\nHey Davis,\\nLET ME IN\\nLET ME INNNNNN.....\\nhttps://www.youtube.com/watch?v=LJ5nV9aKthU\\nedit: they're not letting me in :(\\n\",\n",
              " 'I honestly am lowkey excited to see if I get into yeehaw cowland\\n',\n",
              " \"He's a wizard\\n\",\n",
              " 'Decision: (none yet) Accepted!\\nMathematics\\n4.5 UC W GPA, 3.97 UW, 1430 SAT, In state\\n',\n",
              " 'Im sure youd get in ...\\nIf you did physics hl\\n',\n",
              " 'Why mathematics? What career are you planning  to peruse?\\n',\n",
              " 'I’d assume something dealing with math.\\n',\n",
              " 'Yeah, more or less\\n',\n",
              " 'Crap I forgot my username and I can’t seem to find it in my email..\\n',\n",
              " \"Cal the UC helpdesk number. Someone's suggesting you contact IT help but all they'll do is tell you to call the number\\nSource: Did it myself\\n\",\n",
              " 'Thanks!\\n',\n",
              " 'Contact their IT: ithelp@ucdavis.edu\\n',\n",
              " 'Where my international bois and gals at?\\n',\n",
              " 'As nervous as ever!\\n',\n",
              " \"Oh shit. I thought the decisions came out on the 15th. \\\\commence nervous breakdown** (jk I'm gonna be fine)\\n\",\n",
              " 'Think the portal will crash?\\n',\n",
              " 'Anybody got a countdown?\\n',\n",
              " '~10 hours and 45 minutes  as of 12:15 UTC\\n',\n",
              " 'I hate Davis. Mid tier UC, full of cows, smells like poop, and scorching weather.\\nUnless of course if they accept me I retract all previous statements\\nUpdate: UC Davis, you utter piece of shit\\nSeriously tho, congrats to everyone got in! You guys deserve it :)\\n',\n",
              " 'their baby cows are mad cute you should drop by\\n',\n",
              " 'I already have cows that walk around behind my house I don’t need to go to Davis\\n',\n",
              " 'They’re not cute unless I’m accepted\\nRejected or waitlisted those are the ugliest damn baby cows\\nUpdate: those baby cows are damn ugly\\n',\n",
              " 'F\\nanyway you right about the smell , good pun though\\n',\n",
              " \"Anyone know how to retrieve my login id since I've forgotten it, or will I have to call the UCD office? If so, guess I'm not finding out my decisions until a lot later unless they email me :')\\n\",\n",
              " 'I did not receive any emails for admissions portal, so, a couple days ago, I called the office, and they handled everything manually.\\n',\n",
              " 'Search for the email they sent you when you submitted your application. Should be able to find it there. If not, start the retrieval process.\\n',\n",
              " 'What time are decisions coming out\\n',\n",
              " \"it's been 3:05 specifically the last couple of years according to CC.\\n\",\n",
              " 'You too!\\n',\n",
              " \"I'm a bot, bleep, bloop. Someone has linked to this thread from another place on reddit:\\n\\n[/r/biggestof] ApplyingToCollege: OFFICIAL 2019 University of California Davis Megathread\\n\\n\\xa0If you follow any of the above links, please respect the rules of reddit and don't vote in the other threads. (Info / Contact)\\n\",\n",
              " 'Hopefully I come back to this thread having been accepted\\n',\n",
              " 'sooooo???\\n',\n",
              " \"If you're fucked then I'm even more fucked with a 3.8 UC GPA and 1500 sat\\n\",\n",
              " 'Well it depends what major you applied for \\n',\n",
              " 'computer engineering rip, good luck tho your stats are pretty awesome\\n',\n",
              " 'Thanks hopefully we both get in\\n',\n",
              " 'What time do they release?\\n',\n",
              " '3 PM PST\\n',\n",
              " 'I’m so nervous that I can’t sleep 🤕🤕\\n',\n",
              " 'You got this!!!\\n',\n",
              " 'Thank you :) good luck to everyone \\n',\n",
              " 'Waitlisted\\nGPA: 3.95(uw), 4.5(UC)\\nACT: 35\\nSATII: 800 physics, 800 math 2, 760 bio m\\nMajor: mechanical engineering\\nIn-state\\nReally disappointed right now..:(\\n',\n",
              " 'Almost identical stats, major, and result :/\\n',\n",
              " 'Same - 1570 SAT, 4.0 UW (4.4 W), 800 physics, math 2, chem Major: CS (accepted into USC presidential, UCI Honors, and UCLA Scholarship email)\\nDo you think Davis practices yield protection?\\n',\n",
              " 'I believe all UCs do so don’t feel too bad bruh\\n',\n",
              " \"I didn't get regents for any UCs so kind of worried I won't even get in to my top choices, especially LA\\n\",\n",
              " \"hey man i got waitlisted too with pretty high stats. there's been several large threads made about Davis possible yield protection, and i'm starting to think it's a real possibility. i'm confident your stats will get you into FAR better UC's lol\\n\",\n",
              " \"Honestly don't worry. Lots of high stats people get off the waitlist when I applied 2 years ago. \\n\",\n",
              " 'I got accepted into Mechanical Engineering, but I’m gonna turn down my admission offer ASAP. As an OOS student from a low income family, I definitely can’t afford it. Hope you can get in man. \\n',\n",
              " 'same :(\\n',\n",
              " 'fuck lol if youre my competition at schools like Umich ima off myself lol\\n',\n",
              " 'was too lazy to apply to Umich tbh, but good luck to you!\\n',\n",
              " 'wait is L & S CS easier than CoE CS? Did they even offer L&S? and sorry man, feel bad for you\\n',\n",
              " \"oh shit...\\nwhy didn't anyone tell me this earlier?\\nI would've applied L&S everywhere had I known this because my stats are kinda low\\n\",\n",
              " 'It could be discrimination/\"risk aversion\" if you wrote about a health problem\\n',\n",
              " 'Accepted w/ Regents + Honors Program (30k scholarship)\\nGPA: 4.0UW, 4.9W, 4.4ish UC GPA\\nACT: 34 \\nMajor: Political Science \\nIn-state \\n',\n",
              " 'is the 30k spread out over 4 years?\\n',\n",
              " 'Yeah \\n',\n",
              " '(copied from the other Davis thread)\\nWaitlisted\\n3.91 UW 10-12 GPA / 4.26 W/Capped UC GPA\\n1560 SAT 800M 760E  /  SATII: 790 Chem, 790 M2\\nMech E with Biomed E as alternate\\nIn-state\\nOK essays, pretty good ECs\\n',\n",
              " 'Denied\\n4.18\\n1540\\nCS (L&S)\\nIn-state\\n',\n",
              " 'holy shit man. \\n',\n",
              " 'Yield protection? I’m rattled, my stats aren’t anything crazy but I was sure I’d get into Davis\\n',\n",
              " \"i believe so. i've got identical stats. seems like nearly everyone with these stats got waitlisted/denied. \\nkeep looking forward!\\n\",\n",
              " 'wow \\n',\n",
              " 'Accepted/Denied:ACCEPTED!!!!!!!!\\nGPA: 3.81 UW, 4.25 W (too lazy to calculate UC GPA, but I maxed out on AP points)\\nACT/SAT: SAT 1500, 750 split for both R/M, took once\\nMAJOR: International Relations\\nIn-State/Out of State: In-state\\n',\n",
              " 'Accepted (w/ regents)\\n4.00/4.33/4.67\\n36 ACT\\nUndeclared\\nOut of state\\n',\n",
              " 'Accepted\\n4.33\\n1510/34\\nEcon\\nIn state\\n',\n",
              " 'On the same page when you login\\n',\n",
              " '^ this\\n',\n",
              " 'Denied\\n4.0 W 3.7 UW\\n33 ACT\\nMechanical Engineering\\nStrong ECs and Essays\\nIn-state\\n',\n",
              " 'Denied GPA: 3.82 SAT: 1460 Major: Animal Science In-state\\noof\\n',\n",
              " \"That's literally the same stats as me and unfortunately the same result. :-( \\nDavis has gotten extremely competitive\\n\",\n",
              " \"Yep, I thought Davis would've been one of the UC's that I had a good chance at, but still no decision by SLO and the rejection now... >.< rip my confidence :^(. Hopefully we'll get accepted somewhere else though, good luck!\\n\",\n",
              " \"It's ok dude. I got waitlisted at SLO and it seems like most people did too. I really want to pursue animal science but very few schools offer the prestige a program like the one Davis has to offer. The UC system doesn't make any sense though; so don't rule out the other ones!\\n\",\n",
              " \"Haha yeah, I really wanted too as well but oh well. I know someone as well who got denied by UCD but got into UCSD afterwards, so there's a chance at least!\\n\",\n",
              " 'Waitlisted\\n4.0\\n1370\\nHistory\\nIn-state\\n',\n",
              " 'waitlisted- GPA: 4.09; SAT: 1420; major: genetics & genomics, instate\\n',\n",
              " 'Waitlisted \\nGPA: 4.14 UC GPA\\nSAT:  1440\\nApplied for Computer Science \\nIn State \\n',\n",
              " 'Waitlisted\\nGPA: 4.04\\nACT: 35\\nMAJOR: CS\\nIn-State\\n:(\\n',\n",
              " 'accepted\\n4.12 UC Capped, 4.19 UC weighted\\n1500 SAT\\nApplied Math\\nIn-state\\n',\n",
              " 'Accepted\\nW GPA: 3.5\\nUC GPA: 4.11\\nSAT: 1380\\nACT: 31\\nMajor: Cognitive Science \\nIn state\\n',\n",
              " 'Waitlisted \\n4.14 W 3.93\\n33ACT\\nInstate\\nBiology\\n',\n",
              " 'Accepted (w Regents)\\nGPA: 4.0 UW / 4.3? 4.4? W, maxed out on AP credits\\nSAT: 1580\\nMajor: ChE\\nIn-state\\n',\n",
              " 'Accepted \\n3.92 GPA/1470 SAT\\nUndecided-Life Science\\nIn-State\\n',\n",
              " 'Waitlisted\\nGPA: 4.0UW, 4.8W, 4.4ish UC\\nACT: 35\\nMajor: Engineering\\nIn-state\\n',\n",
              " 'Pretty much perfect stats. What more does UC Davis want?\\n',\n",
              " \"They want students who aren't gonna get into UCLA or Berkeley which is probably also me\\n\",\n",
              " 'True! They’re considering ‘fit’ which I would assume includes whether or not they think you’d actually attend.\\n',\n",
              " 'Wow, great stats. Are you going to submit the statement?\\n',\n",
              " \"I probably will, I've still got lots of schools to look forward to, but having a really local school to go to as an option is always a good thing.\\n\",\n",
              " 'Denied, major: CoE CS, UW GPA: ~3.75, SAT: 1550.\\n',\n",
              " 'Waitlisted\\nGPA: 3.96 \\nSAT: 1400\\nMajor: Political Science\\nIn State\\n',\n",
              " 'Accepted\\nGPA: 3.896 UW, 4.319 W\\nSAT: 1370\\nMajor: Computer Science\\nOut of State (Connecticut)\\n',\n",
              " \"there's no need to get mad at others because you didn't get in\\n\",\n",
              " 'I plan to take that comment in the best way possible.\\n',\n",
              " 'He’s not mad at you I don’t think, just mad that it feels like there’s no real method to how some people with the same stats are accepted and rejected.\\n',\n",
              " 'Accepted\\n4.6\\n33\\ninternational relations\\nin-state\\nhonors program\\n',\n",
              " 'What honors program? Did you have to apply seperately or what?\\n',\n",
              " 'nope, i was just admitted to the University Honors Program!\\n',\n",
              " 'Waitlisted GPA: 4.19 ACT: 35 Major: CS&E\\n',\n",
              " 'In state?\\n',\n",
              " 'indeed\\n',\n",
              " \"wow, that's surprising!\\n\",\n",
              " 'yup, lol. a real confidence shaker.\\n',\n",
              " \"hey don't worry man, i've still got full confidence these stats will get us into better UC's. maybe they thought we wouldn't go... you never know :)\\n\",\n",
              " 'yeah it seems like is has to be yield protection. You guys are super qualifies for any school\\n',\n",
              " 'Waitlisted GPA: 4.5 SAT: 1320 Major: CS In-state\\n',\n",
              " 'Waitlisted\\n4.40 GPA\\n1450 SAT\\nComputer Science and Engineering\\nIn State\\n',\n",
              " 'Waitlisted!!\\n4.1 \\n1120\\nCS\\ninstate :’) \\n',\n",
              " 'Waitlisted \\n3.68 W \\n1200 SAT\\nInstate \\n',\n",
              " 'major?\\n',\n",
              " 'Managerial Economics\\n',\n",
              " 'nice\\n',\n",
              " 'Wbu?\\n',\n",
              " 'economics\\n',\n",
              " 'Denied 3.9 W 1450 Econ :( Us econ bois have it tough (but not as much as CS lol)\\n',\n",
              " 'Denied\\n3.8 UC GPA\\n1530 SAT\\nMajor: Stats\\nIn-state\\n:/\\n',\n",
              " 'Accepted \\n2.9UW\\n33ACT\\nEcon\\n',\n",
              " 'what were your essays about?\\n',\n",
              " 'Rude woah \\n',\n",
              " 'Accepted\\nUW GPA: 3.73 / UC GPA: 3.81\\nACT: 33\\nSAT: 1430\\nSAT 2: 800 Math, 740 Chem\\nBiochemistry/Molecular Biology\\nInternational\\n',\n",
              " 'Accepted. Biochemistry and molecular biology. In state. 4.27 GPA, 1430 SAT\\n',\n",
              " 'Accepted\\nGPA: 4.29 (normal) 4.25 (UC capped) 4.4 (UC uncapped)\\nACT: 33\\nMajor: Genetics/Genomics\\nIn-state\\n',\n",
              " 'Accepted w/ Regents\\n4.4 GPA\\n35 ACT/1510 SAT\\nBiomedical Engineering\\nIn-state\\n',\n",
              " 'Denied GPA: 3.1 SAT: 1520 Major: Econ In-state\\n',\n",
              " 'but it was expected lmfao\\n',\n",
              " 'HOLY shit looking at all these stats I feel rather blessed to have gotten accepted with my own.\\n4.0 UW, 4.18 UC gpa\\nSat: 1420\\nMajor: undeclared\\nInstate\\n',\n",
              " 'Waitlisted\\nGPA: 3.93 UW / 4.23 W\\nSAT: 1550\\nMajor: CS\\nIn-State\\n',\n",
              " 'Denied\\n3.65 UW/3.95 W (not sure what UC is)\\nACT 33\\nEcon\\nIn state\\nWaitlisted from poly but denied here idek haha\\n',\n",
              " 'Accpeted/Denied: accepted \\nGPA: 3.8 (uw), 4.14 (w)\\nACT/SAT: 32\\nMAJOR: biological sciences\\nIn-State/Out of State: in state\\n',\n",
              " 'Denied 4.0, 35 ACT In-state Mechanical Engineering\\n',\n",
              " 'Accepted\\n4.14\\n1100/25\\nBiological Sciences\\nIn-State\\n',\n",
              " 'Denied \\n4.4W 3.8UW \\n34 Act \\nCs \\nIn state\\nRiperoni \\n',\n",
              " 'Accepted! \\n3.95W\\n1490\\nUndeclared- Social Sciences\\nIn-State \\n',\n",
              " 'Accepted/Denied: Accepted\\nGPA: 4.3 (UC)\\nSAT: 1450\\nMajor: Biochemistry and Molecular Biology\\nIn-State/Out of State: In-State\\nOkay essays, pretty good ecs\\n',\n",
              " \"Rejected\\n3.85 UC\\n1540\\nComputer science\\nIn state\\nI only applied because it was on the UC application and I heard good things. I didn't realize how competitive it was at all. I'm hoping UCSC doesn't fuck me now for physics.\\n\",\n",
              " 'accepted\\n4.3 gpa\\nsat:1290\\nmajor: civil engineering\\nin state \\n:)\\n',\n",
              " 'congrats! nice to see other civil engineering majors haha :)\\n',\n",
              " 'thanks! and yeah haha\\n',\n",
              " 'Accepted\\nGPA: 3.8 UW / 4.2 W\\nSAT: 1200\\nMajor: Biochem and Molecular Bio\\nIn-State\\n',\n",
              " 'I’m gonna just take this in a positive manner. Good luck!\\n',\n",
              " 'You are an amazingly tolerant person! If it were his comment on my post I’d have responded a bit more... strongly. \\nCongrats on your acceptance!\\n',\n",
              " 'Thank you!! :)\\n',\n",
              " '*Accepted with $53,000 scholarship for 4 year.\\n*Major: Computer Science and Engineering (OOS)\\n*SAT: 1510\\n*GPA: 102.88 W, 97.45 UW\\n',\n",
              " 'Accpeted/Denied: Accpeted\\nGPA: 4.37\\nACT/SAT: 1520\\nMAJOR: Mathematics\\nIn-State/Out of State: In-State\\n',\n",
              " 'Denied\\n3.6\\n30\\nEcon\\nIn-state\\n',\n",
              " 'where else did u apply for econ?\\n',\n",
              " 'Everywhere else I applied for linguistics/English/philosophy\\n',\n",
              " '\\naccepted\\n15.88 (french grading system)\\n1210 \\ndigital media (want to change)\\noos, american, international applicant (france)\\n\\n',\n",
              " 'Accepted\\nGPA: 4.47\\nACT: 35\\nMajor: Neurobiology/Physiology/Behavior\\nIn State, I also got the glitch link earlier in the week\\n',\n",
              " 'Denied :(\\n3.89\\n31\\nEconomics \\nInstate \\n',\n",
              " 'Accepted \\nGPA: 3.81 UW 4.11 W\\nSAT: 1540\\nMajor: Food Science \\nIn-state\\n',\n",
              " 'Accepted\\nGPA: 4.3 W, 4.0 UW\\nSAT: 1490\\nMajor: Aerospace\\nIn state\\n',\n",
              " \"Accepted\\nGPA: 3.82/4.4 (don't remember UC GPA)\\nACT: 34\\nMajor: political science\\nIn state\\n\",\n",
              " 'Accepted: 3.92 UW 4.21 W   SAT:1590   Electrical Engineering In state\\n',\n",
              " 'Waitlisted \\nGPA- 4.12 W\\nSAT- 1280\\nMajor- Psychology \\nInstate\\n',\n",
              " 'Accepted\\nGPA: 3.92/4.62\\nACT: 35\\nMAJOR: CS and Engineering\\nIn-State/Out of State: In-state\\n',\n",
              " 'Denied\\nGPA: 3.9\\nACT: 32\\nMajor: Econ\\nIn-state\\n',\n",
              " 'Accepted\\nGPA: ~4.05 ish\\nACT: 32\\nMajor: Chem. Engineering\\nIn-State\\n',\n",
              " \"Accepted\\n3.9 UW (non-UC)\\n1500 '\\nPhilosophy major\\nOut of state\\nWere we supposed to get an email notification when decisions were out?\\n\",\n",
              " 'GPA: UC Gpa = 3.9, thicc upward trend\\nSAT: 1570\\nMajor: Biochem/ Molecular Bio \\nIn state \\nAccepted \\n',\n",
              " 'Denied\\nUC GPA: 4.00\\nACT: 333\\nMajor: Mechanical Engineering, in-state\\n',\n",
              " 'Accepted\\nGPA: 4.26 (W) 3.9 (UW)\\nACT: 33\\nMajor: ECON\\nin state\\n',\n",
              " 'Denied \\nGPA: 3.6\\nSAT: 1210\\nIn State \\nMajor: Computer Science \\n',\n",
              " 'Accepted\\n4.18 UC\\n1470\\n730 Physics\\n710 MathII\\nElectrical Engineering\\n',\n",
              " 'Accepted. Instate. UC GPA 4.2. SAT 1490. Communications major. Very strong ECs. Spent all summer on the essays.   \\n',\n",
              " 'Accepted\\n4.327\\n29/1310\\nMathematics\\nOut of state\\n',\n",
              " 'Accepted.\\nGPA - 4.2 \\nSAT - 1330. SAT II - 720 World History. 550 Spanish. 510 Latin. (lmao) \\nMajor - Linguistics/Computer Science.\\nOut of State - Maine.\\nHonestly being NHS president has really pulled me through, I guarantee it. \\n',\n",
              " 'Denied GPA: 3.7 ACT: 33 Major: Political Science In-state\\n',\n",
              " 'Denied\\n3.83 UW 4.1 UC GPA\\n32 ACT\\nBiomedical Engineering\\nIn-state\\n',\n",
              " 'Denied\\nGPA:3.85\\nSAT:1300\\nMajor:Food Science\\nIn-State\\nAlso apparently had good essays..not that it matters that much \\n',\n",
              " 'Denied. \\nUC GPA uncapped 3.9ish, 28 ACT, Genetics and Genomics major. Solid essays and ECs. Took a combined total of 14 Honors and AP classes and attend one of the top 100 schools in CA and am in the top quarter of my class. Thought it was a match but guess not. \\n',\n",
              " 'Accepted\\nGPA: 4.13 W (9th to 11th) 3.96 UW\\nSAT: 1290 \\nMajor: CS \\nIn-state\\n',\n",
              " 'Accepted\\nGPA: 4.4\\nACT: 35\\nMajor: BME\\nIn-state\\n',\n",
              " \"Denied\\n3.81(UW) 4.2 (UC)\\n34\\nCS \\nIn-state\\nI'm mildly disappointed, but at the same time I know I'll be alright.\\n\",\n",
              " \"Denied\\n3.9 ish W\\n33 ACT\\nPlant Bio\\nIn-state\\nrip welp I'm scared for the rest of the UCs now\\n\",\n",
              " 'Accepted\\n4.3W \\n1290 SAT\\nFilm and television media\\nIn-State\\n',\n",
              " 'Accepted\\n1510 sat\\n780 math 2 710 USH\\n4.17 capped\\nIn state For Economics\\n',\n",
              " 'Accepted with scholarship - 53K\\n94% average (international)\\n1510 SAT\\nComputer Science\\nInternational\\n',\n",
              " 'Accepted\\n3.7 UW 4.0 W\\n1520 SAT, 800 Chemistry, 790 Math II, 780 Biology M\\nMaterial Science Engineering\\nIn-State\\n',\n",
              " 'Denied\\n3.7 UW/4.3W\\n1240 SAT\\nHuman Biology\\nIn-State\\n',\n",
              " 'In-state, GPA (weighted, UC) 4.21, (unweighted) 3.69, rejected for Biomedical engineering. Hope these infos can be compiled into a stat later on.\\n',\n",
              " 'Denied\\n4.0 W\\n1450 sat\\nBiological science major\\nInstate\\n',\n",
              " 'Didn’t expect myself to get in\\n1420 SAT\\n740 Math 2 720 chem \\nPredicted 38 in IB \\nDecent ECs, mostly filled with internships and business ventures\\nChem major \\nInternational \\n',\n",
              " 'denied\\ngpa: 3.9 uw 4.1 w\\nsat: 1290\\nsat ii: chem- 630 math2 - 660\\nmajor: chem\\ninstate\\nfeelsbadman davis was supposed to be a target school for me ):\\n',\n",
              " 'Accepted\\n1360 SAT\\n93% (CBSE Curriculum)\\nMechanical Engineering\\nInternational\\n',\n",
              " 'Rejected\\n3.54 UW/3.82UC W/3.89W\\n34\\nEvolution, ecology\\nIn state \\n',\n",
              " 'Accpeted/Denied: ACCEPTED\\nGPA: 3.7UW 4.0W\\nACT/SAT: 1140 (lul)\\nMAJOR: Biological Systems Engineering\\nIn-State/Out of State: In-state\\n(Essays were extremely on point. Honestly, I spent more time total on essays than SAT. Also ECs were on point as well.)\\n',\n",
              " 'Accepted\\n1560 SAT, 790 Physics, 800 Math II\\nOur school doesn’t do GPA, only final percentage and I still have 3 finals left to go\\nMajor: Physics\\nInternational\\n',\n",
              " 'I can sense a CBSE student\\n',\n",
              " 'Guilty as charged :P\\nGot Chem, Math, and CS left. What about you?\\n',\n",
              " 'Accepted\\nUc gpa: 4.23\\nSat/act: 1340/30\\nMajor: History\\nInstate \\n',\n",
              " 'You sure 2.23? Do you mean 3.23? \\n',\n",
              " 'oh woops lmao 4.23\\n',\n",
              " 'Waitlisted \\n4.29\\n1480\\nCompsci\\nIn state\\n',\n",
              " 'Accpeted/Denied: Denied\\nGPA: 3.7\\nACT/SAT: 31\\nMAJOR: English\\nIn-State/Out of State: In-State\\n',\n",
              " 'Waitlisted\\nGPA: 3.92 (uw), 4.23 (Weighted and Capped/UC/10-11th)\\nSAT: 1310\\nMajor: Physics\\nIn-state\\n',\n",
              " 'Accepted! 3.6 UW, 4.6 W, idk my UC GPA. 35, 1560, plant science, OOS. \\n',\n",
              " 'Accpeted/Denied:Accepted\\nGPA: 4.25(UC)\\nACT/SAT: 31\\nMAJOR: Computer Science\\nIn-State/Out of State:Out of State\\n',\n",
              " 'I would imagine it would be easier to get in In-state. I think my essays really pulled me through though edited them like 10 times each... \\n',\n",
              " 'Accepted/Denied: Accepted\\nGPA: 3.78 UW, 4.01 W, \\nSAT: 1330\\nMAJOR: Economics \\nIn-State/Out of State: In-State\\n',\n",
              " \"Accepted\\nGPA: 4.0 UW, 4.6 W\\nSAT only: 1530\\nMAJOR: Bio (general)\\nIn-State/Out of State: In\\n** Note that my essays were shit, which is probably why I wasn't rejected for yield protection.\\n\",\n",
              " 'Accepted with Honors and Regents.\\nGPA: 4.3 W 4.0 UW\\nACT: 36\\nSAT: 1580 (800 Math II, 800 Chemistry, 790 World History)\\nMajor: Microbiology\\nIn-State\\n',\n",
              " 'Accepted\\nGPA: 4.40\\nACT/SAT: 1440\\nMAJOR: Economics\\nIn-State\\n',\n",
              " 'Accepted (regents)\\nGPA: 4.0 UW, 4.5 W\\nSAT: 1560\\nMAJOR: Applied math\\nIn-state\\nedit: Regents and Honors \\n',\n",
              " 'Accpeted/Denied: Accepted\\nGPA: International 85/100\\nACT/SAT: 1300\\nMAJOR: CSE\\nIn-State/Out of State:International\\n',\n",
              " 'Accepted\\nGPA: I take IB (44/45), Weighted GPA should be near full\\nSAT: 1440 (LoL)\\nMAJOR: Sustain. Design\\nInternational Student (HK)\\n',\n",
              " 'Accepted;\\nACT: 34;\\nSAT II: 750 Math 2, 710 Physics;\\nMajor: Physics;\\nOut of state\\n',\n",
              " 'Accepted\\n3.7UW, 4.1W, 4.04/4.32 UC CAPPED\\nSat: 680math 700english - 1380\\nMajor: Psychology\\nIn state\\nMy ECs were meh but my essays were good. \\n',\n",
              " 'Accepted!\\nGPA: 4.33/4.00\\nSAT: 1520\\nACT: 34\\nComputer Science and Engineering\\nIn State\\n',\n",
              " 'Accepted!\\nGPA: IB predicted is 38/45\\nSAT: 1460 \\nMajor: Computer Science\\nInternational\\nAwesome ECs and Good Essays\\n',\n",
              " 'Denied\\n3.6 W\\n35 ACT, 790 physics, 780 math 2\\nComputer Science\\nIn-State\\n',\n",
              " \"Accepted\\nGPA: 4.5 \\nUW: 3.9(3.9 to 3.96, i honest don't remember)\\nSat: 1550\\nSAT 2 MATH:750\\nCS, not sure which college\\nEC: almost nothing cs related, Team captain for jv hockey, crypto club captain, job at Kumon\\nEssays: I liked my essays but I never went anywhere for professionals to check.\\n\",\n",
              " 'Accepted.\\nGPA: IB 37 predicted (766 HL), no good way to convert this to GPA tbh.\\nSAT: 1570\\nMAJOR: Computer Science\\nIn-State/Out of State: International - India.\\n',\n",
              " 'Also I had the link to acceptance in the portal available from that Monday glitch, so I definately think they accidently released it then.\\n',\n",
              " \"Denied \\nAustralian Student so we don't have GPA \\n1370 \\nEconomics \\nOut of State? \\n\",\n",
              " 'Accepted with Regents and Honors!\\n4.32 UC GPA\\n34 ACT // 760 Spanish & 750 US History SAT II\\nInternational Relations Major\\nIn-State\\n',\n",
              " 'Accepted\\nGPA: 40/42 (IB) \\nSAT: 1490\\nMajor: Genetics and Genomics\\nInternational\\nI also got the Provost award for $53,000! \\n',\n",
              " \"Accepted\\nGpa: N/A, British A levels: ABB (gpa of 3.3 or 4.3 probably depending on how you want to count it)\\nSat:  1430 \\nSat subjects:math 800 physics 790\\nMajor: physics\\nOut of state\\nI don't understand how I got in to be entirely honest\\n\",\n",
              " 'denied / 3.8w / 1460 sat / computer engineering / in-state\\nfeels bad man\\n',\n",
              " 'Waitlisted\\nGPA: 38 IB predicted\\nACT/SAT: 1570, 800 Chem, 760 Physics, 790 Math 2\\nMAJOR: Computer Science and Engineering\\nIn-State/Out of State: International\\nso far ive been rejected and waitlisted and i can feel my will to live dissipating slowly\\n',\n",
              " 'Accepted \\n4.4 UC GPA (highest possible due to weird requirements at my school)\\n36 ACT \\nMajor: Neurobiology I believe? \\nIn state \\n',\n",
              " 'Accepted/Denied: Accepted\\nGPA: 4.23\\nACT/SAT: 29/1280\\nMAJOR: Computer Engineering\\nIn-State/Out of State: In-state\\n6/10 essays\\n',\n",
              " 'Status: Accepted\\nGPA: 3.8 (unweighted), 4.4 (Weighted)\\nACT/SAT: 22/1200\\nMajor: Biological Science\\nIn-State/Out of State: Out of State\\n',\n",
              " 'Accepted\\n4.25 UC GPA 4.0 UW\\nACT: 32 SAT II: Chem 800 Math 2 790\\nMajor: Biochemical Engineering\\nIn-State\\n',\n",
              " 'Accepted\\nGPA: 4.25W/3.9UW\\nSAT/ACT: 1270/28\\nMajor: Neurobiology\\nIn state\\nEC: Violin, marching band, Kaiser intern, track/XC, GTGC\\nEssays: Meh, I didn’t write anything too personal or emotional that could sway a decision.\\nI’m still surprised I got in because I heard biology is highly competitive and my standardized test scores are not the best.\\n',\n",
              " 'Accepted\\n4.0/4.5UC\\n34ACT\\nStatistics\\nIn-State\\n',\n",
              " 'accepted\\n3.5 uw/4.56 w\\n34/1460 (8 and 6 in writing, respectively)\\nenvironmental engineering \\noos\\n',\n",
              " 'Accepted\\nGPA: 3.9 (UW) 4.9 (W) \\nSAT: 1400 \\nMajor: Undeclared/Exploratory\\nIn State \\n',\n",
              " 'Accepted/Denied: Accepted w/ Provost (53k over 4 years)\\nGPA: 4.1\\nACT/SAT: 32/1510 (Reading: 750; Math: 760)\\nMAJOR: Physical Science-Undecided\\nIn-State/Out of State: Out of State\\n',\n",
              " 'Accepted \\nGPA 3.9 UW 4.5 UC\\nSat: 1250 ACT 30\\nMajor Pharmaceutical Chemistry \\nIn state \\n(They compare you to people from you school first before comparing you to other candidates by the way.)\\n',\n",
              " 'Accepted\\nGPA: 3.86 UW, 4.6 (W)\\nACT: 35\\nSAT: 1580\\nMajor: Neurobiology, Physiology and Behavior\\nIn state.\\n',\n",
              " \"Accepted\\nUC GPA: Weighted 4.18, Unweighted 3.85\\nSAT: 1490; 800 Math Subsection, Math II: 800\\nMajor: Mathematics\\nIn-state.\\nHowever I attribute my acceptance because I've completed lower division mathematics and got A's in them :/\\n\",\n",
              " \"How the fuck does anyone in this state go to college anymore. I'm a junior from California expecting to go to a low tier csu at this point.\\n\",\n",
              " 'Denied\\nGPA: 3.737\\nSAT: 1420\\nMajor: CS (L&S)\\nIn State\\ni thought i had a decent chance, my GPA is slightly lower than average but my SAT is above average so I thought that would help my chances,, guess not hah\\n',\n",
              " 'Waitlisted\\nGPA: 3.4 UW 4.2 W\\nSAT: 1330 (700 math, 630 reading/writing)\\nmech eng\\nOOS\\nnot bad seeing lots of better people than me not getting in\\n',\n",
              " 'Denied\\nGPA: 3.7 UW, 3.9 W\\nACT: 27\\nMAJOR: Animal Biology\\nIn-State\\n',\n",
              " 'Accepted\\nGPA: 3.6 / 4.7\\nACT: 30/ Sat: 1330 \\nMAJOR: Computer engineering\\nIn-State/Out of State: Out of state\\n',\n",
              " 'Accpeted/Denied: Accepted\\nGPA: 4.12 W UC Capped\\nACT/SAT: 1570 SAT, 790 Math II 760 Physics\\nMAJOR: Computer Engineering\\nIn-State/Out of State: In-State\\n',\n",
              " 'Accepted\\nGPA: 4.0UW, 4.17W\\nSAT: 1190\\nMajor: Political Science \\nInstate \\nTop 10% of class \\nI have a lot of extra curiclars, and I wrote strong personal statements.\\n',\n",
              " 'Accepted with 30,000 Regents \\nGPA: 4.68 Uncapped GPA \\n         4.18 Capped GPA \\nACT: 36\\nMajor: Economcis \\nIn-State \\n',\n",
              " 'Accepted\\n4.25 gpa\\n32 act\\nbio major \\ninstate\\n',\n",
              " 'ACCEPTED! :)\\nGPA: Applied with 4.0 UW, 4.7 W (not sure UC GPA w capped) — w/ 1st semester grades, I got 1 B in AP French out of 7 AP classes, so 3.9 UW)\\nSAT: 1440, SAT IIs were TRASH (out of 3 tests I submitted, my Chem was the worst too — under 700)\\nMAJOR: Chemical Engineering\\nIN STATE.\\n~ asian female, hella ECs, & I think my essays were trash lmao\\nEdit: UC GPA w/ Capped according to RogerHub is a 4.36 (4.73 Uncapped)\\n',\n",
              " \"Accepted\\ngpa 4.23 W    3.80 UW\\nACT: 30\\nChemical Engineering\\nin state\\n760 chem SAT sub\\n720 math 2 SAT sub\\nWE NEED MORE CHEMICAL ENGINEERING MAJORS TO COMPARE OURSELVES :'(\\n\",\n",
              " '\\n3:01 pst\\nno decision\\n\\nANGERY\\nEDIT: checked 3:09 ADMITTED\\nALL IS FORGIVEN\\n',\n",
              " 'WE GOT DIS BOIII, IM IN 2\\n',\n",
              " 'What time will they release decision?\\n',\n",
              " '3pm pst \\n',\n",
              " \"3pm PST happens when this comment is 12 hours and 28 minutes old.\\nYou can find the live countdown here: https://countle.com/G154864qFu\\n\\nI'm a bot, if you want to send feedback, please comment below or send a PM.\\n\",\n",
              " 'good bot\\n',\n",
              " \"Thank you davidli1324 for voting on timezone_bot.  \\nThis bot wants to find the best and worst bots on Reddit. You can view results here.  \\n\\nEven if I don't reply to your comment, I'm still listening for votes. Check the webpage to see if your vote registered!\\n\",\n",
              " 'good bot\\n',\n",
              " 'good bot\\n',\n",
              " 'good bot\\n',\n",
              " 'Did they announce it in advance?\\n',\n",
              " 'rip boys\\n',\n",
              " \"accepted with regents and honors! i'm screaming!\\n\",\n",
              " 'Where do you see if you got regents/honors?\\n',\n",
              " 'it was the second paragraph on my portal.\\n',\n",
              " 'stats?\\n',\n",
              " '36 ACT 1580 SAT 4.3 W \\n',\n",
              " 'What major did you apply for?\\n',\n",
              " 'microbio!\\n',\n",
              " 'Damn didn’t check to see if I got regents until your post and I did! Thanks for your post lol\\n',\n",
              " 'DENIED\\n1510 800M 710RW\\n3.0W GPA\\nDecent Essays\\nWeak ECs\\nSoCal\\nKorean\\n',\n",
              " 'Denied as well Higher GPA but lower SAT\\n',\n",
              " 'IM from Davis, was there a long time, it fucking sucks in Davis my Dude/Dudet, ain’t No thang;)\\n',\n",
              " \"Someone on CC posted this: \\nMy DD's HS academic advisor called admissions yesterday and was told that they would be released some time the middle of March.\\n\",\n",
              " 'I heard they usually post them on the second Friday of March \\n',\n",
              " 'yeah but according to what I just posted and their portal it says mid march which could be next week Friday the 16th. March 9th in my opinion would have been labelled \"Early march\".\\n',\n",
              " 'I get you, but they released the decisions on March 9th last year. Could be different this year but word is UC Davis is consistent with its release dates \\n',\n",
              " \"Got waitlisted, fuck. What are the chances of getting admitted through waitlist generally speaking and how meaningful is the essay I have to write should I accept the offer be? I'm OOS btw.\\nApplied for Computer Science and Engineering \\n1340 SAT\\n3.3 GPA unweighted (3.7 UC GPA??)\\nWork experience, volunteer service, club leadership roles.\\nEdit: Tbf, this is better than what I expected. I was honestly expecting to just get flat out denied, but I suppose I have a chance with waitlist.\\n\",\n",
              " \"Same here. Is this a bad omen for UCLA and UCB decisions? Since they have a higher standard... I'm starting  to feel hopeless\\n\",\n",
              " \"This particularly isn't since people say Davis is really unpredictable with admissions. UCLA and UCB are incredibly competitive though, so if you saw UCD as a match or reach, then you probably already knew it'd be unreasonable to expect much from the top two UCs.\\n\",\n",
              " 'Can confirm, those two are very very picky\\n',\n",
              " 'You have volunteer service, and leadership roles, so I guess you showed you could peak in HS but stayed secluded? That’s the type of shit they like as UCD, I hate it though because that makes the student body suck, I hated Davis\\n',\n",
              " 'how id you find out what your uc gpa was? \\n',\n",
              " 'http://admission.universityofcalifornia.edu/freshman/requirements/gpa-requirement/index.html\\nhttps://rogerhub.com/gpa-calculator-uc/\\n',\n",
              " \"Just found out. I'm in!\\n\",\n",
              " 'what are your stats?\\n',\n",
              " 'Watch them troll us and nothing comes out today. \\n',\n",
              " 'or website crashes and they delay a week\\n',\n",
              " 'Cough Riverside cough\\n',\n",
              " \"It's less of them trolling you and more of everyone psyching themselves out LOL\\n\",\n",
              " 'nah but they could have the decency to release an official date like some of the other ucs instead of doing giving an approximation like \"mid-march\". Really releases the anxiety \\n',\n",
              " 'I don’t understand why\\n',\n",
              " \"Just got accepted!!!!!\\nI'm so excited to be an Aggie. \\nSAT 1540\\nGPA: 3.8 UW 4.1 W\\nMajor: Food Science\\nI'm from Norcal.\\n\",\n",
              " 'Noce; you looking to go into Gov or Private workforce?\\n',\n",
              " 'Probably private workforce. \\n',\n",
              " \"I'm in!\\n3.9 GPA 1470 SAT \\n\",\n",
              " 'I CANT FUCKING LOGIN TO MY ACCOUNT.\\n',\n",
              " 'Same I forgot my pw \\n',\n",
              " 'Denied\\n1470 SAT\\n3.48W GPA\\nManagerial Economics\\nAsian (Indian)\\n',\n",
              " 'That’s like an East Coast major tho??\\n',\n",
              " \"Rejected, and waitlisted by calpoly. I'm pretty sure if I dont get in to Davis, I wont get in to other UCs\\n\",\n",
              " \"That's not true, the UCs are a wildcard every time. Also, Davis had a huge number of apps this year along with cal poly, don't give up dude. :) I have faith in you.\\n\",\n",
              " 'You can always get in, just might not be your year;)\\n',\n",
              " \"Cheer up man! UC applications are extremely unpredictable. You gotta remember that all the schools are looking for different qualities and one rejection isn't an indicator of the future. Looking back on the stress and anxiety I felt about admissions, it's not worth it. You'll likely love wherever you'll end up, even if it's not your first choice of school!\\n\",\n",
              " 'Could someone call the admissions to ask them? (im an internaitonal)\\n',\n",
              " 'Pretty sure lol\\n',\n",
              " 'BaMBoOzLeD??\\n',\n",
              " 'Just got admitted to Aerospace Engineering! In state, central California. 1490 SAT, 4.0 UW 4.3 W GPA. Good luck everyone!\\n',\n",
              " \"Wait how everybody's saying that nothing happened for them\\n\",\n",
              " 'It just started to actually roll out as of just minutes ago\\n',\n",
              " 'Dam, overachiever right here;)\\n',\n",
              " 'Accepted :))\\n',\n",
              " 'did you get an email?\\n',\n",
              " 'nope\\n',\n",
              " 'how did you make portal account without the email?\\n',\n",
              " 'They sent an email a couple hours later \\n',\n",
              " 'Accepted!\\nComputer Science\\n1290\\nGPA W: 4.13 \\nTfw you almost starting bawling in class.. \\nEdit: Superscore GPA was a bit higher. LOL\\n',\n",
              " 'Rejected lmfao. Sooo... did the glitch turn out to be true?\\n',\n",
              " \"It did. Sometimes being humble simply doesn't pay off. RIP\\n\",\n",
              " 'I second this. I hope everybody isn’t getting their hopes up because this is when it was released last year. Cal Poly SLO is a good example of this.\\n',\n",
              " 'Rejected from UC Cow Town. Very happy for everyone that got in!\\n',\n",
              " 'I lived here for a major amount of time, it sucks, no one really loses anything being rejected from here\\n',\n",
              " \"Denied\\nEconomics\\n3.6, 30 ACT, Strong essays and EC's\\n\",\n",
              " 'UCD seems to be weak on econ tho, applicants are best on Applied Science fields. they won’t accept you on Econ I have tended to see with people who are below 4.0, and must have more volunteer and service participation.\\n',\n",
              " \"I got accepted! Out of state (Connecticut,) 1370 SAT, 4.319 W, applied for Computer Science. I don't know how I did it but I did.\\n\",\n",
              " 'Hey fellow CT person wooh\\n',\n",
              " \"Let's gooooo!\\n\",\n",
              " 'Accepted with provost award! 1540, 3.91 UW\\n',\n",
              " 'Accepted!\\n',\n",
              " 'Accepted CoE computer science \\n',\n",
              " 'Do you mind sharing your stats? I was waitlisted.\\n',\n",
              " \"Waitlisted :( \\n1240 sat, 3.8 UC GPA\\nGood essays. Honestly very surprised I didn't get rejected.\\n\",\n",
              " 'My essays must have sucked, I got rejected with 4.2 UC GPA and 1500 sat\\n',\n",
              " 'Yield protection is a possibility.\\n',\n",
              " 'My college consultant said this was a strong possibility at Davis\\n',\n",
              " 'wtf lmao thats crazy\\n',\n",
              " 'What are our chances of getting in with waitlist?\\n',\n",
              " 'Accepted and invited to honors college!\\n34 ACT\\n4.2 W 3.8 UW\\n',\n",
              " 'I got in!\\n',\n",
              " 'ADMITTED, BABY! I GOT IN!\\n',\n",
              " 'YAY I got in!! First school I really like too!!!\\n',\n",
              " 'Im SCREAMINGGGG I GOT INNNN!!!!\\n',\n",
              " 'Woooh!!\\n',\n",
              " 'accepted in state for chemical engineering :)))\\n',\n",
              " 'Boi! you gotta give the gpa, act/sat, and instate/ outstate!\\n',\n",
              " 'Pleaseee someone take one for the team and call 530-752-2971 (admissions) and ask if it really is released today\\n',\n",
              " \"no, please, PLEASE let him be wrong. It's gonna be my first decision and I have so much nerves i can't take it anymore\\n\",\n",
              " 'seconded. five minutes left. \\n',\n",
              " 'does it come out in waves? heard somewhere that today is only North Cal, and i’m an international.\\n',\n",
              " \"I'm in norcal and nothing yet\\n\",\n",
              " 'Some ppl on this thread were saying they come out all at once. \\n',\n",
              " 'all at once cuz as an international i got mine\\n',\n",
              " 'Waitlisted \\nGPA - 3.84 W\\nSAT-1350\\nMajor- Spanish\\nIn state\\n',\n",
              " 'accepted!\\n',\n",
              " 'Admitted!!\\n',\n",
              " 'My first rejection :(( Applied for plant bio; in-state, 3.9-4.0 W, 33 ACT, decent ECs + essays (or at least I thought so)\\n',\n",
              " 'Idk why, you must have not had enough volunteer or EC; bulk this up and apply again\\n',\n",
              " 'accepted! political science!!!! \\n',\n",
              " 'I see\\n',\n",
              " 'Waitlisted for MechE. 1460 SAT, 3.89UW/4.11W. Some ECs\\n',\n",
              " 'Waitlisted for CS, 1550 SAT 4.23W\\n',\n",
              " 'got waitlisted too with similar stats damn cs is hard this year\\n',\n",
              " 'Waitlisted... compsci in state \\n4.29\\n1460\\n780 math 2\\nWas not expecting that\\n',\n",
              " 'Accepted- Cell Biology\\n1510 SAT 4.4 GPA\\n',\n",
              " 'Oh they definitely love you here, the backbone of the uni\\n',\n",
              " 'Accepted 1400 SAT 4.6W CS\\n',\n",
              " 'Accepted! Southern California. Davis is definitely high up on my list, I’m super fucking stoked right now to be a possibly-future Aggie!! \\n',\n",
              " 'Your dreams will be slowed upon arrival;)\\n',\n",
              " 'Rejected - Computer Science; In state\\n3.14 Unweighted GPA; 3.79 Weighted\\n32 ACT/1410 SAT; 800 SAT II Math, 770 SAT Chem\\n',\n",
              " '\\nYour application has been received and is currently being reviewed by our Undergraduate Admissions staff.\\n\\nI WANT DECISION NOW REEEEEEEEEEEEEEEEE\\n',\n",
              " 'Waitlisted (but I thought my stats were strong ://// pretty disappointed. is this yield protection??)\\nApplied for Mech E with Biomed E as alternate, in-state\\n1560 SAT 800M 760E\\nSATII: 790 Chem, 790 M2\\nAP: 5s for BC and Chem\\n3.91 UW 10-12 GPA / 4.26 W/Capped UC GPA\\nOK essays, pretty good ECs\\nalready got into UCI and UCSB too :(\\n',\n",
              " 'They probably wanted you to go to UCSB, that’s basically one above Davis and Irvine is one below Davis. If I were you, SB is way better then Davis. I live here, trust me:)\\n',\n",
              " 'as a side question - if you get in from the waitlist, are you still eligible for honors/merit scholarships? or is it too late rip\\n',\n",
              " 'Holy shit this makes me feel way less stressed that you were waitlisted but also got into UCSB..\\nI was waitlisted too and was hoping I’m not totally ducked for the rest of the UCs!!\\nPs my friends college consultant says UCD does do yield protection, that’s why waitlist has the extra 200 word why Davis essay.\\n',\n",
              " \"Yeah, I'm hoping so. I'm assuming that if I write something about how UC Davis is my top choice or whatever for the 200 word prompt they'll let me in lol. Still a bummer though :(\\n\",\n",
              " 'UCSB decisions are out??!? Crap how did i not know... brb gotta check lol\\n',\n",
              " 'And...\\n',\n",
              " 'not out yet :-/ i think only regents and scholars got decisions or something \\n',\n",
              " 'did you get UCSB decision? It tells me they come out on the 20th :( \\n',\n",
              " \"For UCSB I received the chancellor reception invitation and afaik that means that I'm accepted. My Portal hasn't updated yet.\\n\",\n",
              " 'It’s better\\n',\n",
              " 'Gahhhh Accepted!!!! I honestly didn’t think I would get in!!!\\n',\n",
              " 'congrats!!\\n',\n",
              " 'admitted!! Materials Science and Engineering! (in state)\\n',\n",
              " 'Accepted! No E-mail, just checked the portal\\n',\n",
              " 'Accepted for civil engineering\\n1410 SAT\\n32 ACT\\n3.95 UW\\n4.35 W\\nI’m in state\\n',\n",
              " 'Admitted \\n',\n",
              " 'Accepp: MechE w regents/honors!\\n',\n",
              " 'stats?\\n',\n",
              " '4.0 UW, 1580 SAT\\n',\n",
              " 'Accepted, regents :)\\n',\n",
              " 'Waitlisted 1460 SAT 3.88 UW\\n',\n",
              " 'Accepted-bioengineering \\n4.4 W GPA 3.8 UW\\n1560/35\\n760 math 2, 800 bio, 790 chem\\nInstate (SoCal)\\n',\n",
              " 'SAME (INTERNATIONAL) got into biomed engineering too!!\\n',\n",
              " 'Congrats!! \\n',\n",
              " 'thank you!!!\\n',\n",
              " 'Accepted for Aerospace engineering, get in lads!\\nInternational student btw\\n',\n",
              " 'Accepted to Civil Engineering with Regents and Honors. 4.7 GPA, 35 ACT\\n',\n",
              " 'ACCEPTED TO BIOMED ENGINEERING AS AN INTERNATIONAL!! woke up to the blessed email after staying up till 3pm pst!\\n',\n",
              " 'I got waitlisted, what now?\\n',\n",
              " \"Accepted but I forgot my login and the reset isn't working. All I have is the email, I want to see if I got into honors college\\nIn state \\n36 ACT, 4.4 UC GPA\\nGood essays \\nDecent EC's (one very strong one and a couple supplemental basic ones) \\n\",\n",
              " 'WAITLISTED!\\nGPA: 3.4 UW 4.2 W \\nSAT: 1330\\nMechanical Engineering\\nprob not gonna pursue cause not my first choice, but wanted to tell you guys anyways :D gl to all\\n',\n",
              " \"I'm in folks\\n\",\n",
              " 'Admitted!! :)\\nDoes anyone know if we get a package in the mail or is it just an email?\\n',\n",
              " \"If you didn't get an email how do you make an account? Don't they only send number in that email? \\n\",\n",
              " 'admitted!\\n',\n",
              " 'accepted with the provost award!! wow\\n',\n",
              " 'Aw fuck Davis is my top school and I got Waitlisted \\n- 4.1W GPA\\n- 30 ACT\\n- Environmental Horticulture and Urban Forestry\\nCan anyone offer words of encouragement or know the odds of me getting of the waitlist? Also tips on the short response I need to write in order to accept my position on the waitlist- thanks !!\\n',\n",
              " 'Accepted :)\\nMajor: Biochemistry & Molecular Bio\\nGPA: 4.24 \\nuw: ~3.96\\nSAT w/ Essay: 1300\\nWeak ECs, but I think my essays maybe made up for that? \\nInState, SoCal\\n',\n",
              " 'Denied for CS w/Engineering\\nIn state\\n1510 Sat, 4.54 gpa, strong ecs, good essays\\nIt’s ok tho cuz i made UCSD! Davis can go fuck themselves :)\\n']"
            ]
          },
          "metadata": {
            "tags": []
          },
          "execution_count": 12
        }
      ]
    },
    {
      "cell_type": "code",
      "metadata": {
        "id": "d0k45hML6sAv"
      },
      "source": [
        "data = {'Test Score': test_scores, 'GPA': gpas, 'Status' : statuses}"
      ],
      "execution_count": null,
      "outputs": []
    },
    {
      "cell_type": "code",
      "metadata": {
        "id": "e6jOgm147DO7"
      },
      "source": [
        "import pandas as pd"
      ],
      "execution_count": null,
      "outputs": []
    },
    {
      "cell_type": "code",
      "metadata": {
        "id": "xbD6NhNf7yZQ"
      },
      "source": [
        "df = pd.DataFrame(data=data)\r\n",
        "df = df.drop_duplicates(ignore_index=True) #get rid of duplicated entries"
      ],
      "execution_count": null,
      "outputs": []
    },
    {
      "cell_type": "code",
      "metadata": {
        "colab": {
          "base_uri": "https://localhost:8080/",
          "height": 419
        },
        "id": "gdrOzOpO7K3H",
        "outputId": "3d4e53a7-7c8e-485d-d43e-16f70b33ed89"
      },
      "source": [
        "df"
      ],
      "execution_count": null,
      "outputs": [
        {
          "output_type": "execute_result",
          "data": {
            "text/html": [
              "<div>\n",
              "<style scoped>\n",
              "    .dataframe tbody tr th:only-of-type {\n",
              "        vertical-align: middle;\n",
              "    }\n",
              "\n",
              "    .dataframe tbody tr th {\n",
              "        vertical-align: top;\n",
              "    }\n",
              "\n",
              "    .dataframe thead th {\n",
              "        text-align: right;\n",
              "    }\n",
              "</style>\n",
              "<table border=\"1\" class=\"dataframe\">\n",
              "  <thead>\n",
              "    <tr style=\"text-align: right;\">\n",
              "      <th></th>\n",
              "      <th>Test Score</th>\n",
              "      <th>GPA</th>\n",
              "      <th>Status</th>\n",
              "    </tr>\n",
              "  </thead>\n",
              "  <tbody>\n",
              "    <tr>\n",
              "      <th>0</th>\n",
              "      <td>1430</td>\n",
              "      <td>3.80</td>\n",
              "      <td>accepted</td>\n",
              "    </tr>\n",
              "    <tr>\n",
              "      <th>1</th>\n",
              "      <td>1340</td>\n",
              "      <td>3.80</td>\n",
              "      <td>accepted</td>\n",
              "    </tr>\n",
              "    <tr>\n",
              "      <th>2</th>\n",
              "      <td>1430</td>\n",
              "      <td>3.90</td>\n",
              "      <td>accepted</td>\n",
              "    </tr>\n",
              "    <tr>\n",
              "      <th>3</th>\n",
              "      <td>1540</td>\n",
              "      <td>3.89</td>\n",
              "      <td>accepted</td>\n",
              "    </tr>\n",
              "    <tr>\n",
              "      <th>4</th>\n",
              "      <td>1360</td>\n",
              "      <td>3.98</td>\n",
              "      <td>accepted</td>\n",
              "    </tr>\n",
              "    <tr>\n",
              "      <th>...</th>\n",
              "      <td>...</td>\n",
              "      <td>...</td>\n",
              "      <td>...</td>\n",
              "    </tr>\n",
              "    <tr>\n",
              "      <th>156</th>\n",
              "      <td>1460</td>\n",
              "      <td>3.89</td>\n",
              "      <td>waitlisted</td>\n",
              "    </tr>\n",
              "    <tr>\n",
              "      <th>157</th>\n",
              "      <td>1410</td>\n",
              "      <td>3.79</td>\n",
              "      <td>rejected</td>\n",
              "    </tr>\n",
              "    <tr>\n",
              "      <th>158</th>\n",
              "      <td>1430</td>\n",
              "      <td>3.95</td>\n",
              "      <td>accepted</td>\n",
              "    </tr>\n",
              "    <tr>\n",
              "      <th>159</th>\n",
              "      <td>1460</td>\n",
              "      <td>3.88</td>\n",
              "      <td>waitlisted</td>\n",
              "    </tr>\n",
              "    <tr>\n",
              "      <th>160</th>\n",
              "      <td>1300</td>\n",
              "      <td>3.96</td>\n",
              "      <td>accepted</td>\n",
              "    </tr>\n",
              "  </tbody>\n",
              "</table>\n",
              "<p>161 rows × 3 columns</p>\n",
              "</div>"
            ],
            "text/plain": [
              "     Test Score   GPA      Status\n",
              "0          1430  3.80    accepted\n",
              "1          1340  3.80    accepted\n",
              "2          1430  3.90    accepted\n",
              "3          1540  3.89    accepted\n",
              "4          1360  3.98    accepted\n",
              "..          ...   ...         ...\n",
              "156        1460  3.89  waitlisted\n",
              "157        1410  3.79    rejected\n",
              "158        1430  3.95    accepted\n",
              "159        1460  3.88  waitlisted\n",
              "160        1300  3.96    accepted\n",
              "\n",
              "[161 rows x 3 columns]"
            ]
          },
          "metadata": {
            "tags": []
          },
          "execution_count": 16
        }
      ]
    },
    {
      "cell_type": "markdown",
      "metadata": {
        "id": "94bvHBJ6X3-D"
      },
      "source": [
        "First, I would like to create a scatterplot of the data to see if it has some resemblence of clustering that would allow for KNN to work well"
      ]
    },
    {
      "cell_type": "code",
      "metadata": {
        "id": "5GBXEI9O7uzH"
      },
      "source": [
        "import matplotlib.pyplot as plt"
      ],
      "execution_count": null,
      "outputs": []
    },
    {
      "cell_type": "code",
      "metadata": {
        "id": "N0PdYG3O9dJf"
      },
      "source": [
        "#get data from df in a way that allows us to create a scatterplot\r\n",
        "df_by_status = df.sort_values(by='Status', ignore_index=True)\r\n",
        "\r\n",
        "accepted = df_by_status.loc[df_by_status.Status=='accepted']\r\n",
        "waitlisted = df_by_status.loc[df_by_status.Status=='waitlisted']\r\n",
        "rejected = df_by_status.loc[df_by_status.Status=='rejected']\r\n",
        "\r\n",
        "accepted_test_scores = accepted['Test Score'].tolist()\r\n",
        "accepted_gpas = accepted['GPA'].tolist()\r\n",
        "\r\n",
        "waitlisted_test_scores = waitlisted['Test Score'].tolist()\r\n",
        "waitlisted_gpas = waitlisted['GPA'].tolist()\r\n",
        "\r\n",
        "rejected_test_scores = rejected['Test Score'].tolist()\r\n",
        "rejected_gpas = rejected['GPA'].tolist()"
      ],
      "execution_count": null,
      "outputs": []
    },
    {
      "cell_type": "code",
      "metadata": {
        "colab": {
          "base_uri": "https://localhost:8080/",
          "height": 279
        },
        "id": "nLJ42cyA-0Sv",
        "outputId": "769aeb85-5fd6-4424-c49c-46703e520d8d"
      },
      "source": [
        "  plt.scatter(accepted_gpas, accepted_test_scores, color='g', label='Accepted', alpha=0.7)\r\n",
        "  plt.scatter(rejected_gpas, rejected_test_scores, color='r', label='Rejected', alpha=0.7)\r\n",
        "  plt.scatter(waitlisted_gpas, waitlisted_test_scores, color='b', label='Waitlisted', alpha=0.7)\r\n",
        "  plt.xlabel('Unweighted GPA')\r\n",
        "  plt.ylabel('SAT Score')\r\n",
        "  plt.legend()\r\n",
        "  plt.show()"
      ],
      "execution_count": null,
      "outputs": [
        {
          "output_type": "display_data",
          "data": {
            "image/png": "[encoded data removed]",
            "text/plain": [
              "<Figure size 432x288 with 1 Axes>"
            ]
          },
          "metadata": {
            "tags": [],
            "needs_background": "light"
          }
        }
      ]
    },
    {
      "cell_type": "code",
      "metadata": {
        "colab": {
          "base_uri": "https://localhost:8080/",
          "height": 279
        },
        "id": "xSnVmkxtS1TI",
        "outputId": "be519ef7-c908-4182-ee4a-38082f52aac9"
      },
      "source": [
        "plt.scatter(waitlisted_gpas, waitlisted_test_scores, color='b', label='Waitlisted', alpha=0.7)\r\n",
        "plt.xlabel('Unweighted GPA')\r\n",
        "plt.ylabel('SAT Score')\r\n",
        "plt.legend()\r\n",
        "plt.show()"
      ],
      "execution_count": null,
      "outputs": [
        {
          "output_type": "display_data",
          "data": {
            "image/png": "[encoded data removed]",
            "text/plain": [
              "<Figure size 432x288 with 1 Axes>"
            ]
          },
          "metadata": {
            "tags": [],
            "needs_background": "light"
          }
        }
      ]
    },
    {
      "cell_type": "markdown",
      "metadata": {
        "id": "34w1mdvwSvzT"
      },
      "source": [
        "As we can see above, the waitlisted values are seemingly scattered across the board randomly. This will likely throw off the accuracy of the model. After thinking about using this model practically, I figured that a user would rather see more accurate results displaying only a prediction of acceptance or rejection over less accurate results displaying a prediction of being waitlisted as well. In addition, we do not lose a significant amount of data since there weren't a great deal of waitlists."
      ]
    },
    {
      "cell_type": "code",
      "metadata": {
        "colab": {
          "base_uri": "https://localhost:8080/",
          "height": 279
        },
        "id": "qMQratYZPwlH",
        "outputId": "a0e45cda-d1a0-405d-9533-0ba9aa6ca39e"
      },
      "source": [
        "  plt.scatter(accepted_gpas, accepted_test_scores, color='g', label='Accepted', alpha=0.7)\r\n",
        "  plt.scatter(rejected_gpas, rejected_test_scores, color='r', label='Rejected', alpha=0.7)\r\n",
        "  #plt.scatter(waitlisted_gpas, waitlisted_test_scores, color='b', label='Waitlisted', alpha=0.7)\r\n",
        "  plt.xlabel('Unweighted GPA')\r\n",
        "  plt.ylabel('SAT Score')\r\n",
        "  plt.legend()\r\n",
        "  plt.show()"
      ],
      "execution_count": null,
      "outputs": [
        {
          "output_type": "display_data",
          "data": {
            "image/png": "[encoded data removed]",
            "text/plain": [
              "<Figure size 432x288 with 1 Axes>"
            ]
          },
          "metadata": {
            "tags": [],
            "needs_background": "light"
          }
        }
      ]
    },
    {
      "cell_type": "code",
      "metadata": {
        "id": "cEYSjfL5P3pH"
      },
      "source": [
        "df['Status'] = df['Status'].replace(['accepted'], 1)\r\n",
        "df['Status'] = df['Status'].replace(['rejected'], 0)\r\n",
        "df = df[df.Status != 'waitlisted']\r\n",
        "df.reset_index(drop=True, inplace=True)"
      ],
      "execution_count": null,
      "outputs": []
    },
    {
      "cell_type": "code",
      "metadata": {
        "colab": {
          "base_uri": "https://localhost:8080/",
          "height": 419
        },
        "id": "ZEITdLsnQRW8",
        "outputId": "e18b91d9-7369-4f3d-f9f1-8043ade9ce7d"
      },
      "source": [
        "df"
      ],
      "execution_count": null,
      "outputs": [
        {
          "output_type": "execute_result",
          "data": {
            "text/html": [
              "<div>\n",
              "<style scoped>\n",
              "    .dataframe tbody tr th:only-of-type {\n",
              "        vertical-align: middle;\n",
              "    }\n",
              "\n",
              "    .dataframe tbody tr th {\n",
              "        vertical-align: top;\n",
              "    }\n",
              "\n",
              "    .dataframe thead th {\n",
              "        text-align: right;\n",
              "    }\n",
              "</style>\n",
              "<table border=\"1\" class=\"dataframe\">\n",
              "  <thead>\n",
              "    <tr style=\"text-align: right;\">\n",
              "      <th></th>\n",
              "      <th>Test Score</th>\n",
              "      <th>GPA</th>\n",
              "      <th>Status</th>\n",
              "    </tr>\n",
              "  </thead>\n",
              "  <tbody>\n",
              "    <tr>\n",
              "      <th>0</th>\n",
              "      <td>1430</td>\n",
              "      <td>3.80</td>\n",
              "      <td>1</td>\n",
              "    </tr>\n",
              "    <tr>\n",
              "      <th>1</th>\n",
              "      <td>1340</td>\n",
              "      <td>3.80</td>\n",
              "      <td>1</td>\n",
              "    </tr>\n",
              "    <tr>\n",
              "      <th>2</th>\n",
              "      <td>1430</td>\n",
              "      <td>3.90</td>\n",
              "      <td>1</td>\n",
              "    </tr>\n",
              "    <tr>\n",
              "      <th>3</th>\n",
              "      <td>1540</td>\n",
              "      <td>3.89</td>\n",
              "      <td>1</td>\n",
              "    </tr>\n",
              "    <tr>\n",
              "      <th>4</th>\n",
              "      <td>1360</td>\n",
              "      <td>3.98</td>\n",
              "      <td>1</td>\n",
              "    </tr>\n",
              "    <tr>\n",
              "      <th>...</th>\n",
              "      <td>...</td>\n",
              "      <td>...</td>\n",
              "      <td>...</td>\n",
              "    </tr>\n",
              "    <tr>\n",
              "      <th>123</th>\n",
              "      <td>1540</td>\n",
              "      <td>3.91</td>\n",
              "      <td>1</td>\n",
              "    </tr>\n",
              "    <tr>\n",
              "      <th>124</th>\n",
              "      <td>1500</td>\n",
              "      <td>3.80</td>\n",
              "      <td>1</td>\n",
              "    </tr>\n",
              "    <tr>\n",
              "      <th>125</th>\n",
              "      <td>1410</td>\n",
              "      <td>3.79</td>\n",
              "      <td>0</td>\n",
              "    </tr>\n",
              "    <tr>\n",
              "      <th>126</th>\n",
              "      <td>1430</td>\n",
              "      <td>3.95</td>\n",
              "      <td>1</td>\n",
              "    </tr>\n",
              "    <tr>\n",
              "      <th>127</th>\n",
              "      <td>1300</td>\n",
              "      <td>3.96</td>\n",
              "      <td>1</td>\n",
              "    </tr>\n",
              "  </tbody>\n",
              "</table>\n",
              "<p>128 rows × 3 columns</p>\n",
              "</div>"
            ],
            "text/plain": [
              "     Test Score   GPA Status\n",
              "0          1430  3.80      1\n",
              "1          1340  3.80      1\n",
              "2          1430  3.90      1\n",
              "3          1540  3.89      1\n",
              "4          1360  3.98      1\n",
              "..          ...   ...    ...\n",
              "123        1540  3.91      1\n",
              "124        1500  3.80      1\n",
              "125        1410  3.79      0\n",
              "126        1430  3.95      1\n",
              "127        1300  3.96      1\n",
              "\n",
              "[128 rows x 3 columns]"
            ]
          },
          "metadata": {
            "tags": []
          },
          "execution_count": 23
        }
      ]
    },
    {
      "cell_type": "markdown",
      "metadata": {
        "id": "VaQFY_kcYLEZ"
      },
      "source": [
        "As we can see, the top right corner consists mostly of acceptances and and as gpa and SAT score decrease, we start to see more rejections. It is worth noting that there is not really a point where we can safely say that an applicant will very likely be rejected just by looking at the plot. This means that KNN will likely be more confident for acceptance than rejections.\r\n",
        "\r\n",
        "It's now time to format the data for KNN"
      ]
    },
    {
      "cell_type": "code",
      "metadata": {
        "colab": {
          "base_uri": "https://localhost:8080/"
        },
        "id": "EmLEOwTmy6gX",
        "outputId": "81c73172-68fa-4a4a-db11-cd2dbd140bd3"
      },
      "source": [
        "df.info()"
      ],
      "execution_count": null,
      "outputs": [
        {
          "output_type": "stream",
          "text": [
            "<class 'pandas.core.frame.DataFrame'>\n",
            "RangeIndex: 128 entries, 0 to 127\n",
            "Data columns (total 3 columns):\n",
            " #   Column      Non-Null Count  Dtype  \n",
            "---  ------      --------------  -----  \n",
            " 0   Test Score  128 non-null    int64  \n",
            " 1   GPA         128 non-null    float64\n",
            " 2   Status      128 non-null    object \n",
            "dtypes: float64(1), int64(1), object(1)\n",
            "memory usage: 3.1+ KB\n"
          ],
          "name": "stdout"
        }
      ]
    },
    {
      "cell_type": "code",
      "metadata": {
        "id": "zQYlWH2o0B0S"
      },
      "source": [
        "y_df = df.pop('Status')\r\n",
        "y = y_df.astype('int')"
      ],
      "execution_count": null,
      "outputs": []
    },
    {
      "cell_type": "code",
      "metadata": {
        "id": "mAMzDfuU0Zqd"
      },
      "source": [
        "y = y.to_numpy()\r\n",
        "X = df.to_numpy()"
      ],
      "execution_count": null,
      "outputs": []
    },
    {
      "cell_type": "code",
      "metadata": {
        "id": "In6mRC5RL9in"
      },
      "source": [
        "from sklearn.model_selection import cross_val_score"
      ],
      "execution_count": null,
      "outputs": []
    },
    {
      "cell_type": "markdown",
      "metadata": {
        "id": "HsbAKRmiY66y"
      },
      "source": [
        "Create KNN models for varying values of K and plot to find the best value. I got some help from: https://towardsdatascience.com/knn-using-scikit-learn-c6bed765be75"
      ]
    },
    {
      "cell_type": "code",
      "metadata": {
        "id": "jJCjLPSuMLgO"
      },
      "source": [
        "from sklearn.neighbors import KNeighborsClassifier\r\n",
        "from sklearn import metrics\r\n",
        "\r\n",
        "k_range = range(1,60)\r\n",
        "scores_list = []\r\n",
        "for k in k_range:\r\n",
        "  knn = KNeighborsClassifier(n_neighbors=k)\r\n",
        "  scores = cross_val_score(knn, X, y, cv=10, scoring='accuracy') #10 fold cross validation since we are working with a small dataset\r\n",
        "  scores_list.append(scores.mean())"
      ],
      "execution_count": null,
      "outputs": []
    },
    {
      "cell_type": "code",
      "metadata": {
        "colab": {
          "base_uri": "https://localhost:8080/",
          "height": 296
        },
        "id": "F71dzyrs3C_r",
        "outputId": "bf94d82b-6f82-4bda-e6d7-129cfda457d2"
      },
      "source": [
        "import matplotlib.pyplot as plt\r\n",
        "\r\n",
        "plt.plot(k_range, scores_list)\r\n",
        "plt.xlabel('K')\r\n",
        "plt.ylabel('Accuracy')"
      ],
      "execution_count": null,
      "outputs": [
        {
          "output_type": "execute_result",
          "data": {
            "text/plain": [
              "Text(0, 0.5, 'Accuracy')"
            ]
          },
          "metadata": {
            "tags": []
          },
          "execution_count": 29
        },
        {
          "output_type": "display_data",
          "data": {
            "image/png": "[encoded data removed]",
            "text/plain": [
              "<Figure size 432x288 with 1 Axes>"
            ]
          },
          "metadata": {
            "tags": [],
            "needs_background": "light"
          }
        }
      ]
    },
    {
      "cell_type": "code",
      "metadata": {
        "colab": {
          "base_uri": "https://localhost:8080/"
        },
        "id": "kwCUK5Sq3g7r",
        "outputId": "aa445b45-db1a-4182-fc43-df1a340d4b36"
      },
      "source": [
        "import numpy as np\r\n",
        "\r\n",
        "print(\"max accuracy:\", np.max(scores_list))\r\n",
        "print(\"'best' K value in terms of accuracy:\", str(np.argmax(scores_list) + 1))\r\n",
        "test_value = 5\r\n",
        "print(\"my test value's accuracy\", scores_list[test_value + 1])\r\n",
        "print(\"\\nRandomly guessing everything as acceptances and rejections respectively\")\r\n",
        "y_df.value_counts(normalize=True) * 100"
      ],
      "execution_count": null,
      "outputs": [
        {
          "output_type": "stream",
          "text": [
            "max accuracy: 0.6717948717948719\n",
            "'best' K value in terms of accuracy: 19\n",
            "my test value's accuracy 0.5217948717948719\n",
            "\n",
            "Randomly guessing everything as acceptances and rejections respectively\n"
          ],
          "name": "stdout"
        },
        {
          "output_type": "execute_result",
          "data": {
            "text/plain": [
              "1    64.84375\n",
              "0    35.15625\n",
              "Name: Status, dtype: float64"
            ]
          },
          "metadata": {
            "tags": []
          },
          "execution_count": 30
        }
      ]
    },
    {
      "cell_type": "markdown",
      "metadata": {
        "id": "XtAjAIsyVgz1"
      },
      "source": [
        "As we can see, our model is slightly better than randomly guessing at its maximum accuracy. However, it appears that our model will trade off correctly picking acceptences with the highest accuracy possible for picking rejections with higher accuracy as well if we allow k to be on the smaller end. Our acceptance accuracy will be lower than guessing everything as an acceptance, but our rejection accuracy will be much higher. We can play around with this number to see what works best. I ended up going with the following:"
      ]
    },
    {
      "cell_type": "code",
      "metadata": {
        "id": "rWjQRAlb8IG7"
      },
      "source": [
        "k = 5"
      ],
      "execution_count": null,
      "outputs": []
    },
    {
      "cell_type": "code",
      "metadata": {
        "colab": {
          "base_uri": "https://localhost:8080/"
        },
        "id": "UYxYneXt4RCr",
        "outputId": "c393b90c-e135-40ad-a954-2c472886b60e"
      },
      "source": [
        "from sklearn.model_selection import cross_val_predict\r\n",
        "from sklearn.metrics import confusion_matrix\r\n",
        "knn_final = KNeighborsClassifier(n_neighbors=k)\r\n",
        "knn_final.fit(X, y)"
      ],
      "execution_count": null,
      "outputs": [
        {
          "output_type": "execute_result",
          "data": {
            "text/plain": [
              "KNeighborsClassifier(algorithm='auto', leaf_size=30, metric='minkowski',\n",
              "                     metric_params=None, n_jobs=None, n_neighbors=5, p=2,\n",
              "                     weights='uniform')"
            ]
          },
          "metadata": {
            "tags": []
          },
          "execution_count": 76
        }
      ]
    },
    {
      "cell_type": "code",
      "metadata": {
        "colab": {
          "base_uri": "https://localhost:8080/"
        },
        "id": "mL8i1xRYv5bV",
        "outputId": "e38f8942-dc04-42d4-c88a-d67804fba296"
      },
      "source": [
        "y_pred = knn_final.predict(X)\r\n",
        "matrix = confusion_matrix(y, y_pred)\r\n",
        "class_accuracy = matrix.diagonal()/matrix.sum(axis=1)\r\n",
        "print(\"accuracy for rejections:\", class_accuracy[0], \"\\naccuracy for acceptances:\", class_accuracy[1])"
      ],
      "execution_count": null,
      "outputs": [
        {
          "output_type": "stream",
          "text": [
            "accuracy for rejections: 0.5333333333333333 \n",
            "accuracy for acceptances: 0.8192771084337349\n"
          ],
          "name": "stdout"
        }
      ]
    },
    {
      "cell_type": "code",
      "metadata": {
        "id": "HshJIgDT4m2e"
      },
      "source": [
        "sat_score_for_prediction = 1450 #@param {type:\"integer\"}\n",
        "gpa_for_prediction =  3.45#@param {type:\"number\"}"
      ],
      "execution_count": null,
      "outputs": []
    },
    {
      "cell_type": "code",
      "metadata": {
        "colab": {
          "base_uri": "https://localhost:8080/"
        },
        "id": "AHo-pR4k5sgj",
        "outputId": "e1370c45-fdc0-4ae0-bad6-8004c29d2017"
      },
      "source": [
        "prediction = knn_final.predict_proba([[sat_score_for_prediction, gpa_for_prediction]])\r\n",
        "print(\" based on an SAT score of\", sat_score_for_prediction, \"and an unweighted gpa of \" + str(gpa_for_prediction) + \":\\n\")\r\n",
        "print(\"\", round(prediction[0][0] * 100,2), \"% chance of rejection\\n\", round(prediction[0][1] * 100, 2), \"% chance of acceptance\\n\")\r\n",
        "print(\" from\", k, \"votes (k = \" + str(k) + \")\")"
      ],
      "execution_count": null,
      "outputs": [
        {
          "output_type": "stream",
          "text": [
            " based on an SAT score of 1450 and an unweighted gpa of 3.45:\n",
            "\n",
            " 40.0 % chance of rejection\n",
            " 60.0 % chance of acceptance\n",
            "\n",
            " from 5 votes (k = 5)\n"
          ],
          "name": "stdout"
        }
      ]
    },
    {
      "cell_type": "markdown",
      "metadata": {
        "id": "wj2SRDszqhk9"
      },
      "source": [
        "Out of curiousity, I wanted to see how well our data would work with other classifiers from the scikit-learn library"
      ]
    },
    {
      "cell_type": "code",
      "metadata": {
        "id": "J-EVLuTGqqN7"
      },
      "source": [
        "from sklearn.model_selection import cross_val_score"
      ],
      "execution_count": null,
      "outputs": []
    },
    {
      "cell_type": "code",
      "metadata": {
        "colab": {
          "base_uri": "https://localhost:8080/"
        },
        "id": "0msfeU4GqwOB",
        "outputId": "198aa65c-8146-4251-ca31-f613325b88b6"
      },
      "source": [
        "from sklearn.linear_model import LogisticRegression\r\n",
        "model = LogisticRegression()\r\n",
        "scores = cross_val_score(model, X, y, cv=10, scoring='accuracy') #10 fold cross validation since we are working with a small dataset\r\n",
        "print(scores.mean())"
      ],
      "execution_count": null,
      "outputs": [
        {
          "output_type": "stream",
          "text": [
            "0.6487179487179489\n"
          ],
          "name": "stdout"
        }
      ]
    },
    {
      "cell_type": "code",
      "metadata": {
        "colab": {
          "base_uri": "https://localhost:8080/"
        },
        "id": "1hFnIJwwrJpC",
        "outputId": "8c65ee7d-360f-4f2c-f755-1ae45bdf0d98"
      },
      "source": [
        "from xgboost import XGBClassifier\r\n",
        "model = XGBClassifier()\r\n",
        "scores = cross_val_score(model, X, y, cv=10, scoring='accuracy') #10 fold cross validation since we are working with a small dataset\r\n",
        "print(scores.mean())"
      ],
      "execution_count": null,
      "outputs": [
        {
          "output_type": "stream",
          "text": [
            "0.5455128205128205\n"
          ],
          "name": "stdout"
        }
      ]
    },
    {
      "cell_type": "code",
      "metadata": {
        "colab": {
          "base_uri": "https://localhost:8080/"
        },
        "id": "pKAeDw4trhm-",
        "outputId": "ec1830eb-d5c0-44ad-f254-239c74c7782a"
      },
      "source": [
        "from sklearn import svm\r\n",
        "model = svm.SVC()\r\n",
        "scores = cross_val_score(model, X, y, cv=10, scoring='accuracy') #10 fold cross validation since we are working with a small dataset\r\n",
        "print(scores.mean())"
      ],
      "execution_count": null,
      "outputs": [
        {
          "output_type": "stream",
          "text": [
            "0.6487179487179489\n"
          ],
          "name": "stdout"
        }
      ]
    },
    {
      "cell_type": "markdown",
      "metadata": {
        "id": "yeQ86PBRr_ga"
      },
      "source": [
        "It appears that Logistic Regression and SVM provide a seemingly higher score than our KNN model. I'm going to take a deeper look into Logistic Regression (just because I am more familiar with it than I am with SVM)"
      ]
    },
    {
      "cell_type": "code",
      "metadata": {
        "id": "ofvtYTjYsaiB"
      },
      "source": [
        "logreg = LogisticRegression(penalty='l2',C=0.1)"
      ],
      "execution_count": null,
      "outputs": []
    },
    {
      "cell_type": "code",
      "metadata": {
        "colab": {
          "base_uri": "https://localhost:8080/"
        },
        "id": "bUUAwTEksfxx",
        "outputId": "3523a700-bba0-4031-a283-179ade70944c"
      },
      "source": [
        "from sklearn.model_selection import train_test_split\r\n",
        "X_train, X_test, y_train, y_test = train_test_split(X, y, test_size=0.25, random_state=31)\r\n",
        "logreg.fit(X_train, y_train)"
      ],
      "execution_count": null,
      "outputs": [
        {
          "output_type": "execute_result",
          "data": {
            "text/plain": [
              "LogisticRegression(C=0.1, class_weight=None, dual=False, fit_intercept=True,\n",
              "                   intercept_scaling=1, l1_ratio=None, max_iter=100,\n",
              "                   multi_class='auto', n_jobs=None, penalty='l2',\n",
              "                   random_state=None, solver='lbfgs', tol=0.0001, verbose=0,\n",
              "                   warm_start=False)"
            ]
          },
          "metadata": {
            "tags": []
          },
          "execution_count": 61
        }
      ]
    },
    {
      "cell_type": "code",
      "metadata": {
        "colab": {
          "base_uri": "https://localhost:8080/"
        },
        "id": "KGgR8a6CtpxJ",
        "outputId": "82345f13-abf4-48a5-8e5c-1851f0912e47"
      },
      "source": [
        "logreg.predict(X_test)"
      ],
      "execution_count": null,
      "outputs": [
        {
          "output_type": "execute_result",
          "data": {
            "text/plain": [
              "array([1, 1, 1, 1, 1, 1, 1, 1, 1, 1, 1, 1, 1, 1, 1, 1, 1, 1, 1, 1, 1, 1,\n",
              "       1, 1, 1, 1, 1, 1, 1, 1, 1, 1])"
            ]
          },
          "metadata": {
            "tags": []
          },
          "execution_count": 62
        }
      ]
    },
    {
      "cell_type": "markdown",
      "metadata": {
        "id": "O8pe8HHjtwVN"
      },
      "source": [
        "As we can see, logistic regression is just picking everyone as an admit. Let's see if this is reasonable given the testing labels"
      ]
    },
    {
      "cell_type": "code",
      "metadata": {
        "colab": {
          "base_uri": "https://localhost:8080/"
        },
        "id": "cXH9B20wt6jx",
        "outputId": "6cb35eef-0f60-4f43-f86a-85fe709092f8"
      },
      "source": [
        "y_test"
      ],
      "execution_count": null,
      "outputs": [
        {
          "output_type": "execute_result",
          "data": {
            "text/plain": [
              "array([0, 0, 1, 1, 0, 0, 1, 1, 1, 1, 1, 0, 0, 0, 1, 0, 0, 0, 0, 1, 1, 1,\n",
              "       1, 1, 1, 1, 1, 1, 0, 1, 1, 1])"
            ]
          },
          "metadata": {
            "tags": []
          },
          "execution_count": 64
        }
      ]
    },
    {
      "cell_type": "markdown",
      "metadata": {
        "id": "N-8ajrL7ueyZ"
      },
      "source": [
        "It appears not. Looking back at the plot for KNN, we can see that guessing all acceptances will give us the exact score that the model is giving us. Encouraging the model to also guess rejections will likely bring down the accuracy to a level similar to that of our KNN model. Therefore, I feel that the additional complexity presented by using Logistic Regression is not justifiable, especially for such a tiny dataset"
      ]
    }
  ]
}