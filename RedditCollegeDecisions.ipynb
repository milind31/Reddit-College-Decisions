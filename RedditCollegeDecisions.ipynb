{
  "nbformat": 4,
  "nbformat_minor": 0,
  "metadata": {
    "colab": {
      "name": "RedditCollegeDecisions.ipynb",
      "provenance": []
    },
    "kernelspec": {
      "name": "python3",
      "display_name": "Python 3"
    }
  },
  "cells": [
    {
      "cell_type": "markdown",
      "metadata": {
        "id": "fsuC3sf0SVpO"
      },
      "source": [
        "r/ApplyingToCollege is a subreddit for high school students to discuss college admissions. Every year, once admissions decisions are released, there are megathreads set up for students to discuss whether or not they got in and what their grades, test scores, extracurriculars, etc. were like so other students can gauge how competitive admissions were for that college in that year. In this notebook, I scrape all posts from the megathreads for UC Davis from the last 3 years; naively extract SAT scores, unweighted GPAs, and admissions statuses from these posts; and use k-nearest neighbors to predict a student's admission status given their SAT score and unweighted GPA.\r\n",
        "\r\n",
        "Disclaimer: My code attempts a very simple approach of taking two parameters to predict admission status and fails to take into account many other factors in the college admissions process such as extracurriculars, essays, family income, etc. This is definitely something I would like to improve upon in the future."
      ]
    },
    {
      "cell_type": "code",
      "metadata": {
        "id": "K85eOtxAldGf"
      },
      "source": [
        "#necessary libraries\r\n",
        "import urllib.request\r\n",
        "from bs4 import BeautifulSoup\r\n",
        "import re\r\n",
        "import numpy as np\r\n",
        "import matplotlib.pyplot as plt"
      ],
      "execution_count": 1,
      "outputs": []
    },
    {
      "cell_type": "code",
      "metadata": {
        "id": "APRm-24emWf-"
      },
      "source": [
        "user_agent = 'Mozilla/5.0 (Macintosh; Intel Mac OS X 10_9_3) AppleWebKit/537.36 (KHTML, like Gecko) Chrome/35.0.1916.47 Safari/537.36'"
      ],
      "execution_count": 2,
      "outputs": []
    },
    {
      "cell_type": "code",
      "metadata": {
        "id": "8U3tFfA9mP-a"
      },
      "source": [
        "extracted_comments = []\r\n",
        "def scrape():\r\n",
        "    for url in urls:\r\n",
        "        request = urllib.request.Request(url,headers={'User-Agent': user_agent})\r\n",
        "        html = urllib.request.urlopen(request).read()           \r\n",
        "        soup = BeautifulSoup(html,'html.parser')\r\n",
        "        comment_area = soup.find('div',attrs={'class':'commentarea'})\r\n",
        "        comments = comment_area.find_all('div', attrs={'class':'entry unvoted'})\r\n",
        "        for comment in comments: \r\n",
        "            if comment.find('form'):\r\n",
        "                comment_text = comment.find('div',attrs={'class':'md'}).text\r\n",
        "                extracted_comments.append(comment_text)"
      ],
      "execution_count": 3,
      "outputs": []
    },
    {
      "cell_type": "markdown",
      "metadata": {
        "id": "5B59rRq6U5wl"
      },
      "source": [
        "For this notebook, I use megathreads for UC Davis as this was the school that gave me the best balance of clean and a large amount of data. Some other popular schools from r/ApplyingToCollege are listed below for easy substitution."
      ]
    },
    {
      "cell_type": "code",
      "metadata": {
        "id": "FyP8g-armGbp"
      },
      "source": [
        "#reddit pages for most popular schools\r\n",
        "urls = [\"https://old.reddit.com/r/ApplyingToCollege/comments/aync6m/official_2019_university_of_california_davis/?limit=500\", \"https://old.reddit.com/r/ApplyingToCollege/comments/83b3cn/uc_davis_stats_thread/?limit=500\",\r\n",
        "        \"https://old.reddit.com/r/ApplyingToCollege/comments/835n7c/uc_davis_decision_megathread/\"] #UC Davis\r\n",
        "#ucla urls = [\"https://old.reddit.com/r/ApplyingToCollege/comments/b3tyrj/official_2019_university_of_california_los/?limit=500\"]\r\n",
        "#usc urls = [\"https://old.reddit.com/r/ApplyingToCollege/comments/b3eemc/official_2019_university_of_southern_california/?limit=500\"]\r\n",
        "#mit urls = [\"https://old.reddit.com/r/ApplyingToCollege/comments/84gzgb/mit_statsdecisions_separate_megathread/?limit=500\"]\r\n",
        "#caltech urls = [\"https://old.reddit.com/r/ApplyingToCollege/comments/ayztkb/official_2019_california_institute_of_technology/?sort=new\"]\r\n",
        "#ucb urls = [\"https://old.reddit.com/r/ApplyingToCollege/comments/b5mcup/official_2019_university_of_california_berkeley/?limit=500\"]\r\n",
        "#brown urls = [\"https://old.reddit.com/r/ApplyingToCollege/comments/b5uqbs/official_2019_brown_university_megathread/?sort=new\"]\r\n",
        "#upenn urls = [\"https://old.reddit.com/r/ApplyingToCollege/comments/b5uqki/official_2019_university_of_pennsylvania/?sort=new\"]\r\n",
        "#columbia urls = [\"https://old.reddit.com/r/ApplyingToCollege/comments/b5uq26/official_2019_columbia_university_megathread/?sort=new\"]\r\n",
        "#cornell urls = [\"https://old.reddit.com/r/ApplyingToCollege/comments/b5ur0q/official_2019_cornell_university_megathread/?sort=new\"]\r\n",
        "#yale urls = [\"https://old.reddit.com/r/ApplyingToCollege/comments/b5up4c/official_2019_yale_university_megathread/?sort=new\"]\r\n",
        "#harvard urls = [\"https://old.reddit.com/r/ApplyingToCollege/comments/b5uovg/official_2019_harvard_university_megathread/?sort=new\"]\r\n",
        "#uchicago urls = [\"https://old.reddit.com/r/ApplyingToCollege/comments/b09yc2/official_2019_university_of_chicago_megathread/?sort=new\"]\r\n",
        "#stanford urls = [\"https://old.reddit.com/r/ApplyingToCollege/comments/b6dkt0/official_2019_stanford_university_megathread/?sort=new\"]\r\n",
        "#georgiatech urls = [\"https://old.reddit.com/r/ApplyingToCollege/comments/ayzu23/offical_2019_georgia_institute_of_technology/?sort=new\"]\r\n",
        "#jhu urls = [\"https://old.reddit.com/r/ApplyingToCollege/comments/b0fp4u/official_2019_johns_hopkins_university_megathread/?sort=new\"]"
      ],
      "execution_count": 4,
      "outputs": []
    },
    {
      "cell_type": "code",
      "metadata": {
        "id": "RtuyIskjmX_i"
      },
      "source": [
        "scrape() #scrape data from specified urls"
      ],
      "execution_count": 5,
      "outputs": []
    },
    {
      "cell_type": "code",
      "metadata": {
        "id": "l7qyNR94rkL5"
      },
      "source": [
        "statuses = []\r\n",
        "test_scores = []\r\n",
        "gpas = []"
      ],
      "execution_count": 6,
      "outputs": []
    },
    {
      "cell_type": "code",
      "metadata": {
        "id": "j1Gx1PlXsjLk"
      },
      "source": [
        "sat_conversion_array = [1080, 1110, 1140, 1180, 1210, 1240, 1280, 1310, 1340, 1370, 1400, 1430, 1460, 1500, 1540, 1590] #used to convert from act to sat, uses the official 2018 act/sat concordance table"
      ],
      "execution_count": 7,
      "outputs": []
    },
    {
      "cell_type": "markdown",
      "metadata": {
        "id": "7NprUkruV8eV"
      },
      "source": [
        "Below you can begin to see how this is a very naive approach. I basically assume the first occurence of all numbers with decimals from 3.0 to 4.0 to be unweighted GPA's (although they may actually be weighted GPA's or better yet just a number that has literally any other significance), numbers from 21 to 36 to be ACT scores, numbers ending in 0 from 1100 to 1600 to be SAT scores, and the first mention of one of the words 'accepted', 'rejected', 'denied' or 'waitlisted' to be the admissions status.\r\n",
        "\r\n",
        "However, due to the nature of these comments in the sense that they are typically formatted the same way, I am able to get away with a lot of these simplifications and recieve reasonable results. I think it may be possible to apply some sort of NLP model to get more accurate results, but that is beyond the scope of my knowledge at this point. "
      ]
    },
    {
      "cell_type": "code",
      "metadata": {
        "id": "Oq0rGNAinAQ2"
      },
      "source": [
        "#clean up comments to extract relevant info\r\n",
        "for i in range(len(extracted_comments)):\r\n",
        "  comment = extracted_comments[i]\r\n",
        "  comment = comment.lower()\r\n",
        "\r\n",
        "  accepted = re.search('accepted', comment)\r\n",
        "  rejected = re.search('rejected', comment)\r\n",
        "  denied = re.search('denied', comment)\r\n",
        "  waitlisted = re.search('waitlisted', comment)\r\n",
        "  numeric_data = re.findall('\\d*\\.?\\d+',comment) #all numbers in the comment\r\n",
        "\r\n",
        "  gpa = 0\r\n",
        "  test_score = 0\r\n",
        "  status = ''\r\n",
        "\r\n",
        "  for number in numeric_data:\r\n",
        "    if float(number) in range(21, 36): #act score, assume scores are above 21\r\n",
        "      test_score = sat_conversion_array[int(number) - 21]\r\n",
        "    elif float(number) in range(1100, 1600, 10): #sat score, assume scores are above 1100\r\n",
        "      test_score = int(number)\r\n",
        "    elif float(number) > 3 and float(number) <= 4 and '.' in str(number):\r\n",
        "      gpa = float(number)\r\n",
        "\r\n",
        "  if accepted and not rejected and not denied and not waitlisted:\r\n",
        "    status = 'accepted'\r\n",
        "  elif not accepted and (rejected or denied) and not waitlisted:\r\n",
        "    status = 'rejected'\r\n",
        "  elif not accepted and not rejected and not denied and waitlisted:\r\n",
        "    status = 'waitlisted'\r\n",
        "  \r\n",
        "  if gpa != 0 and test_score != 0 and status != '':\r\n",
        "    statuses.append(status)\r\n",
        "    test_scores.append(test_score)\r\n",
        "    gpas.append(gpa)\r\n",
        "  \r\n",
        "#extracted_comments"
      ],
      "execution_count": 8,
      "outputs": []
    },
    {
      "cell_type": "code",
      "metadata": {
        "id": "d0k45hML6sAv"
      },
      "source": [
        "data = {'Test Score': test_scores, 'GPA': gpas, 'Status' : statuses}"
      ],
      "execution_count": 9,
      "outputs": []
    },
    {
      "cell_type": "code",
      "metadata": {
        "id": "e6jOgm147DO7"
      },
      "source": [
        "import pandas as pd"
      ],
      "execution_count": 10,
      "outputs": []
    },
    {
      "cell_type": "code",
      "metadata": {
        "id": "xbD6NhNf7yZQ"
      },
      "source": [
        "df = pd.DataFrame(data=data)\r\n",
        "df = df.drop_duplicates(ignore_index=True) #get rid of duplicated entries"
      ],
      "execution_count": 11,
      "outputs": []
    },
    {
      "cell_type": "code",
      "metadata": {
        "colab": {
          "base_uri": "https://localhost:8080/",
          "height": 419
        },
        "id": "gdrOzOpO7K3H",
        "outputId": "091ed391-515d-45f1-cd6e-38955e591cd8"
      },
      "source": [
        "df"
      ],
      "execution_count": 12,
      "outputs": [
        {
          "output_type": "execute_result",
          "data": {
            "text/html": [
              "<div>\n",
              "<style scoped>\n",
              "    .dataframe tbody tr th:only-of-type {\n",
              "        vertical-align: middle;\n",
              "    }\n",
              "\n",
              "    .dataframe tbody tr th {\n",
              "        vertical-align: top;\n",
              "    }\n",
              "\n",
              "    .dataframe thead th {\n",
              "        text-align: right;\n",
              "    }\n",
              "</style>\n",
              "<table border=\"1\" class=\"dataframe\">\n",
              "  <thead>\n",
              "    <tr style=\"text-align: right;\">\n",
              "      <th></th>\n",
              "      <th>Test Score</th>\n",
              "      <th>GPA</th>\n",
              "      <th>Status</th>\n",
              "    </tr>\n",
              "  </thead>\n",
              "  <tbody>\n",
              "    <tr>\n",
              "      <th>0</th>\n",
              "      <td>1430</td>\n",
              "      <td>3.80</td>\n",
              "      <td>accepted</td>\n",
              "    </tr>\n",
              "    <tr>\n",
              "      <th>1</th>\n",
              "      <td>1340</td>\n",
              "      <td>3.80</td>\n",
              "      <td>accepted</td>\n",
              "    </tr>\n",
              "    <tr>\n",
              "      <th>2</th>\n",
              "      <td>1430</td>\n",
              "      <td>3.90</td>\n",
              "      <td>accepted</td>\n",
              "    </tr>\n",
              "    <tr>\n",
              "      <th>3</th>\n",
              "      <td>1540</td>\n",
              "      <td>3.89</td>\n",
              "      <td>accepted</td>\n",
              "    </tr>\n",
              "    <tr>\n",
              "      <th>4</th>\n",
              "      <td>1360</td>\n",
              "      <td>3.98</td>\n",
              "      <td>accepted</td>\n",
              "    </tr>\n",
              "    <tr>\n",
              "      <th>...</th>\n",
              "      <td>...</td>\n",
              "      <td>...</td>\n",
              "      <td>...</td>\n",
              "    </tr>\n",
              "    <tr>\n",
              "      <th>156</th>\n",
              "      <td>1460</td>\n",
              "      <td>3.89</td>\n",
              "      <td>waitlisted</td>\n",
              "    </tr>\n",
              "    <tr>\n",
              "      <th>157</th>\n",
              "      <td>1410</td>\n",
              "      <td>3.79</td>\n",
              "      <td>rejected</td>\n",
              "    </tr>\n",
              "    <tr>\n",
              "      <th>158</th>\n",
              "      <td>1430</td>\n",
              "      <td>3.95</td>\n",
              "      <td>accepted</td>\n",
              "    </tr>\n",
              "    <tr>\n",
              "      <th>159</th>\n",
              "      <td>1460</td>\n",
              "      <td>3.88</td>\n",
              "      <td>waitlisted</td>\n",
              "    </tr>\n",
              "    <tr>\n",
              "      <th>160</th>\n",
              "      <td>1300</td>\n",
              "      <td>3.96</td>\n",
              "      <td>accepted</td>\n",
              "    </tr>\n",
              "  </tbody>\n",
              "</table>\n",
              "<p>161 rows × 3 columns</p>\n",
              "</div>"
            ],
            "text/plain": [
              "     Test Score   GPA      Status\n",
              "0          1430  3.80    accepted\n",
              "1          1340  3.80    accepted\n",
              "2          1430  3.90    accepted\n",
              "3          1540  3.89    accepted\n",
              "4          1360  3.98    accepted\n",
              "..          ...   ...         ...\n",
              "156        1460  3.89  waitlisted\n",
              "157        1410  3.79    rejected\n",
              "158        1430  3.95    accepted\n",
              "159        1460  3.88  waitlisted\n",
              "160        1300  3.96    accepted\n",
              "\n",
              "[161 rows x 3 columns]"
            ]
          },
          "metadata": {
            "tags": []
          },
          "execution_count": 12
        }
      ]
    },
    {
      "cell_type": "markdown",
      "metadata": {
        "id": "94bvHBJ6X3-D"
      },
      "source": [
        "First, I would like to create a scatterplot of the data to see if it has some resemblence of clustering that would allow for KNN to work well"
      ]
    },
    {
      "cell_type": "code",
      "metadata": {
        "id": "5GBXEI9O7uzH"
      },
      "source": [
        "import matplotlib.pyplot as plt"
      ],
      "execution_count": 13,
      "outputs": []
    },
    {
      "cell_type": "code",
      "metadata": {
        "id": "N0PdYG3O9dJf"
      },
      "source": [
        "#get data from df in a way that allows us to create a scatterplot\r\n",
        "df_by_status = df.sort_values(by='Status', ignore_index=True)\r\n",
        "\r\n",
        "accepted = df_by_status.loc[df_by_status.Status=='accepted']\r\n",
        "waitlisted = df_by_status.loc[df_by_status.Status=='waitlisted']\r\n",
        "rejected = df_by_status.loc[df_by_status.Status=='rejected']\r\n",
        "\r\n",
        "accepted_test_scores = accepted['Test Score'].tolist()\r\n",
        "accepted_gpas = accepted['GPA'].tolist()\r\n",
        "\r\n",
        "waitlisted_test_scores = waitlisted['Test Score'].tolist()\r\n",
        "waitlisted_gpas = waitlisted['GPA'].tolist()\r\n",
        "\r\n",
        "rejected_test_scores = rejected['Test Score'].tolist()\r\n",
        "rejected_gpas = rejected['GPA'].tolist()"
      ],
      "execution_count": 14,
      "outputs": []
    },
    {
      "cell_type": "code",
      "metadata": {
        "colab": {
          "base_uri": "https://localhost:8080/",
          "height": 279
        },
        "id": "nLJ42cyA-0Sv",
        "outputId": "5aeb4a28-b8a9-4c67-b973-81f077eb5efb"
      },
      "source": [
        "  plt.scatter(accepted_gpas, accepted_test_scores, color='g', label='Accepted', alpha=0.7)\r\n",
        "  plt.scatter(rejected_gpas, rejected_test_scores, color='r', label='Rejected', alpha=0.7)\r\n",
        "  plt.scatter(waitlisted_gpas, waitlisted_test_scores, color='b', label='Waitlisted', alpha=0.7)\r\n",
        "  plt.xlabel('Unweighted GPA')\r\n",
        "  plt.ylabel('SAT Score')\r\n",
        "  plt.legend()\r\n",
        "  plt.show()"
      ],
      "execution_count": 15,
      "outputs": [
        {
          "output_type": "display_data",
          "data": {
            "image/png": "[encoded data removed]",
            "text/plain": [
              "<Figure size 432x288 with 1 Axes>"
            ]
          },
          "metadata": {
            "tags": [],
            "needs_background": "light"
          }
        }
      ]
    },
    {
      "cell_type": "code",
      "metadata": {
        "colab": {
          "base_uri": "https://localhost:8080/",
          "height": 279
        },
        "id": "xSnVmkxtS1TI",
        "outputId": "e1e3f168-3f11-42f5-8b92-a992fcb64da1"
      },
      "source": [
        "plt.scatter(waitlisted_gpas, waitlisted_test_scores, color='b', label='Waitlisted', alpha=0.7)\r\n",
        "plt.xlabel('Unweighted GPA')\r\n",
        "plt.ylabel('SAT Score')\r\n",
        "plt.legend()\r\n",
        "plt.show()"
      ],
      "execution_count": 16,
      "outputs": [
        {
          "output_type": "display_data",
          "data": {
            "image/png": "[encoded data removed]",
            "text/plain": [
              "<Figure size 432x288 with 1 Axes>"
            ]
          },
          "metadata": {
            "tags": [],
            "needs_background": "light"
          }
        }
      ]
    },
    {
      "cell_type": "markdown",
      "metadata": {
        "id": "34w1mdvwSvzT"
      },
      "source": [
        "As we can see above, the waitlisted values are seemingly scattered across the board randomly. This will likely throw off the accuracy of the model. After thinking about using this model practically, I figured that a user would rather see more accurate results displaying only a prediction of acceptance or rejection over less accurate results displaying a prediction of being waitlisted as well. In addition, we do not lose a significant amount of data since there weren't a great deal of waitlists."
      ]
    },
    {
      "cell_type": "code",
      "metadata": {
        "colab": {
          "base_uri": "https://localhost:8080/",
          "height": 279
        },
        "id": "qMQratYZPwlH",
        "outputId": "24653f06-06f5-4b6f-d94a-66e3a8845d25"
      },
      "source": [
        "  plt.scatter(accepted_gpas, accepted_test_scores, color='g', label='Accepted', alpha=0.7)\r\n",
        "  plt.scatter(rejected_gpas, rejected_test_scores, color='r', label='Rejected', alpha=0.7)\r\n",
        "  #plt.scatter(waitlisted_gpas, waitlisted_test_scores, color='b', label='Waitlisted', alpha=0.7)\r\n",
        "  plt.xlabel('Unweighted GPA')\r\n",
        "  plt.ylabel('SAT Score')\r\n",
        "  plt.legend()\r\n",
        "  plt.show()"
      ],
      "execution_count": 17,
      "outputs": [
        {
          "output_type": "display_data",
          "data": {
            "image/png": "[encoded data removed]",
            "text/plain": [
              "<Figure size 432x288 with 1 Axes>"
            ]
          },
          "metadata": {
            "tags": [],
            "needs_background": "light"
          }
        }
      ]
    },
    {
      "cell_type": "code",
      "metadata": {
        "id": "cEYSjfL5P3pH"
      },
      "source": [
        "df['Status'] = df['Status'].replace(['accepted'], 1)\r\n",
        "df['Status'] = df['Status'].replace(['rejected'], 0)\r\n",
        "df = df[df.Status != 'waitlisted']\r\n",
        "df.reset_index(drop=True, inplace=True)"
      ],
      "execution_count": 18,
      "outputs": []
    },
    {
      "cell_type": "code",
      "metadata": {
        "colab": {
          "base_uri": "https://localhost:8080/",
          "height": 419
        },
        "id": "ZEITdLsnQRW8",
        "outputId": "030ca145-28c4-458e-c864-9e87d334c9e6"
      },
      "source": [
        "df"
      ],
      "execution_count": 19,
      "outputs": [
        {
          "output_type": "execute_result",
          "data": {
            "text/html": [
              "<div>\n",
              "<style scoped>\n",
              "    .dataframe tbody tr th:only-of-type {\n",
              "        vertical-align: middle;\n",
              "    }\n",
              "\n",
              "    .dataframe tbody tr th {\n",
              "        vertical-align: top;\n",
              "    }\n",
              "\n",
              "    .dataframe thead th {\n",
              "        text-align: right;\n",
              "    }\n",
              "</style>\n",
              "<table border=\"1\" class=\"dataframe\">\n",
              "  <thead>\n",
              "    <tr style=\"text-align: right;\">\n",
              "      <th></th>\n",
              "      <th>Test Score</th>\n",
              "      <th>GPA</th>\n",
              "      <th>Status</th>\n",
              "    </tr>\n",
              "  </thead>\n",
              "  <tbody>\n",
              "    <tr>\n",
              "      <th>0</th>\n",
              "      <td>1430</td>\n",
              "      <td>3.80</td>\n",
              "      <td>1</td>\n",
              "    </tr>\n",
              "    <tr>\n",
              "      <th>1</th>\n",
              "      <td>1340</td>\n",
              "      <td>3.80</td>\n",
              "      <td>1</td>\n",
              "    </tr>\n",
              "    <tr>\n",
              "      <th>2</th>\n",
              "      <td>1430</td>\n",
              "      <td>3.90</td>\n",
              "      <td>1</td>\n",
              "    </tr>\n",
              "    <tr>\n",
              "      <th>3</th>\n",
              "      <td>1540</td>\n",
              "      <td>3.89</td>\n",
              "      <td>1</td>\n",
              "    </tr>\n",
              "    <tr>\n",
              "      <th>4</th>\n",
              "      <td>1360</td>\n",
              "      <td>3.98</td>\n",
              "      <td>1</td>\n",
              "    </tr>\n",
              "    <tr>\n",
              "      <th>...</th>\n",
              "      <td>...</td>\n",
              "      <td>...</td>\n",
              "      <td>...</td>\n",
              "    </tr>\n",
              "    <tr>\n",
              "      <th>123</th>\n",
              "      <td>1540</td>\n",
              "      <td>3.91</td>\n",
              "      <td>1</td>\n",
              "    </tr>\n",
              "    <tr>\n",
              "      <th>124</th>\n",
              "      <td>1500</td>\n",
              "      <td>3.80</td>\n",
              "      <td>1</td>\n",
              "    </tr>\n",
              "    <tr>\n",
              "      <th>125</th>\n",
              "      <td>1410</td>\n",
              "      <td>3.79</td>\n",
              "      <td>0</td>\n",
              "    </tr>\n",
              "    <tr>\n",
              "      <th>126</th>\n",
              "      <td>1430</td>\n",
              "      <td>3.95</td>\n",
              "      <td>1</td>\n",
              "    </tr>\n",
              "    <tr>\n",
              "      <th>127</th>\n",
              "      <td>1300</td>\n",
              "      <td>3.96</td>\n",
              "      <td>1</td>\n",
              "    </tr>\n",
              "  </tbody>\n",
              "</table>\n",
              "<p>128 rows × 3 columns</p>\n",
              "</div>"
            ],
            "text/plain": [
              "     Test Score   GPA Status\n",
              "0          1430  3.80      1\n",
              "1          1340  3.80      1\n",
              "2          1430  3.90      1\n",
              "3          1540  3.89      1\n",
              "4          1360  3.98      1\n",
              "..          ...   ...    ...\n",
              "123        1540  3.91      1\n",
              "124        1500  3.80      1\n",
              "125        1410  3.79      0\n",
              "126        1430  3.95      1\n",
              "127        1300  3.96      1\n",
              "\n",
              "[128 rows x 3 columns]"
            ]
          },
          "metadata": {
            "tags": []
          },
          "execution_count": 19
        }
      ]
    },
    {
      "cell_type": "markdown",
      "metadata": {
        "id": "VaQFY_kcYLEZ"
      },
      "source": [
        "As we can see, the top right corner consists mostly of acceptances and and as gpa and SAT score decrease, we start to see more rejections. It is worth noting that there is not really a point where we can safely say that an applicant will very likely be rejected just by looking at the plot. This means that KNN will likely be more confident for acceptance than rejections.\r\n",
        "\r\n",
        "It's now time to format the data for KNN"
      ]
    },
    {
      "cell_type": "code",
      "metadata": {
        "colab": {
          "base_uri": "https://localhost:8080/"
        },
        "id": "EmLEOwTmy6gX",
        "outputId": "7a857ed1-6cf3-48d2-eaa8-76775e5f340f"
      },
      "source": [
        "df.info()"
      ],
      "execution_count": 20,
      "outputs": [
        {
          "output_type": "stream",
          "text": [
            "<class 'pandas.core.frame.DataFrame'>\n",
            "RangeIndex: 128 entries, 0 to 127\n",
            "Data columns (total 3 columns):\n",
            " #   Column      Non-Null Count  Dtype  \n",
            "---  ------      --------------  -----  \n",
            " 0   Test Score  128 non-null    int64  \n",
            " 1   GPA         128 non-null    float64\n",
            " 2   Status      128 non-null    object \n",
            "dtypes: float64(1), int64(1), object(1)\n",
            "memory usage: 3.1+ KB\n"
          ],
          "name": "stdout"
        }
      ]
    },
    {
      "cell_type": "code",
      "metadata": {
        "id": "zQYlWH2o0B0S"
      },
      "source": [
        "y_df = df.pop('Status')\r\n",
        "y = y_df.astype('int')"
      ],
      "execution_count": 21,
      "outputs": []
    },
    {
      "cell_type": "code",
      "metadata": {
        "id": "mAMzDfuU0Zqd"
      },
      "source": [
        "y = y.to_numpy()\r\n",
        "X = df.to_numpy()"
      ],
      "execution_count": 22,
      "outputs": []
    },
    {
      "cell_type": "code",
      "metadata": {
        "id": "In6mRC5RL9in"
      },
      "source": [
        "from sklearn.model_selection import cross_val_score"
      ],
      "execution_count": 23,
      "outputs": []
    },
    {
      "cell_type": "markdown",
      "metadata": {
        "id": "HsbAKRmiY66y"
      },
      "source": [
        "Create KNN models for varying values of K and plot to find the best value. I got some help from: https://towardsdatascience.com/knn-using-scikit-learn-c6bed765be75"
      ]
    },
    {
      "cell_type": "code",
      "metadata": {
        "id": "jJCjLPSuMLgO"
      },
      "source": [
        "from sklearn.neighbors import KNeighborsClassifier\r\n",
        "from sklearn import metrics\r\n",
        "\r\n",
        "k_range = range(1,60)\r\n",
        "scores_list = []\r\n",
        "for k in k_range:\r\n",
        "  knn = KNeighborsClassifier(n_neighbors=k)\r\n",
        "  scores = cross_val_score(knn, X, y, cv=10, scoring='accuracy') #10 fold cross validation since we are working with a small dataset\r\n",
        "  scores_list.append(scores.mean())"
      ],
      "execution_count": 24,
      "outputs": []
    },
    {
      "cell_type": "code",
      "metadata": {
        "colab": {
          "base_uri": "https://localhost:8080/",
          "height": 296
        },
        "id": "F71dzyrs3C_r",
        "outputId": "1b794d15-37c6-4051-8b00-658cb6623d57"
      },
      "source": [
        "import matplotlib.pyplot as plt\r\n",
        "\r\n",
        "plt.plot(k_range, scores_list)\r\n",
        "plt.xlabel('K')\r\n",
        "plt.ylabel('Accuracy')"
      ],
      "execution_count": 25,
      "outputs": [
        {
          "output_type": "execute_result",
          "data": {
            "text/plain": [
              "Text(0, 0.5, 'Accuracy')"
            ]
          },
          "metadata": {
            "tags": []
          },
          "execution_count": 25
        },
        {
          "output_type": "display_data",
          "data": {
            "image/png": "[encoded data removed]",
            "text/plain": [
              "<Figure size 432x288 with 1 Axes>"
            ]
          },
          "metadata": {
            "tags": [],
            "needs_background": "light"
          }
        }
      ]
    },
    {
      "cell_type": "code",
      "metadata": {
        "colab": {
          "base_uri": "https://localhost:8080/"
        },
        "id": "kwCUK5Sq3g7r",
        "outputId": "0bcec109-c193-448b-99f6-fb767598d7ac"
      },
      "source": [
        "import numpy as np\r\n",
        "\r\n",
        "print(\"max accuracy:\", np.max(scores_list))\r\n",
        "print(\"'best' K value in terms of accuracy:\", str(np.argmax(scores_list) + 1))\r\n",
        "test_value = 5\r\n",
        "print(\"my test value's accuracy\", scores_list[test_value + 1])\r\n",
        "print(\"\\nRandomly guessing everything as acceptances and rejections respectively\")\r\n",
        "y_df.value_counts(normalize=True) * 100"
      ],
      "execution_count": 26,
      "outputs": [
        {
          "output_type": "stream",
          "text": [
            "max accuracy: 0.6717948717948719\n",
            "'best' K value in terms of accuracy: 19\n",
            "my test value's accuracy 0.5217948717948719\n",
            "\n",
            "Randomly guessing everything as acceptances and rejections respectively\n"
          ],
          "name": "stdout"
        },
        {
          "output_type": "execute_result",
          "data": {
            "text/plain": [
              "1    64.84375\n",
              "0    35.15625\n",
              "Name: Status, dtype: float64"
            ]
          },
          "metadata": {
            "tags": []
          },
          "execution_count": 26
        }
      ]
    },
    {
      "cell_type": "markdown",
      "metadata": {
        "id": "XtAjAIsyVgz1"
      },
      "source": [
        "As we can see, our model is slightly better than randomly guessing at its maximum accuracy. However, it appears that our model will trade off correctly picking acceptences with the highest accuracy possible for picking rejections with higher accuracy as well if we allow k to be on the smaller end. Our acceptance accuracy will be lower than guessing everything as an acceptance, but our rejection accuracy will be much higher. We can play around with this number to see what works best. I ended up going with the following:"
      ]
    },
    {
      "cell_type": "code",
      "metadata": {
        "id": "rWjQRAlb8IG7"
      },
      "source": [
        "k = 5"
      ],
      "execution_count": 27,
      "outputs": []
    },
    {
      "cell_type": "code",
      "metadata": {
        "colab": {
          "base_uri": "https://localhost:8080/"
        },
        "id": "UYxYneXt4RCr",
        "outputId": "0ecdf71f-29d5-4351-fd0b-2039f5c55810"
      },
      "source": [
        "from sklearn.model_selection import cross_val_predict\r\n",
        "from sklearn.metrics import confusion_matrix\r\n",
        "knn_final = KNeighborsClassifier(n_neighbors=k)\r\n",
        "knn_final.fit(X, y)"
      ],
      "execution_count": 28,
      "outputs": [
        {
          "output_type": "execute_result",
          "data": {
            "text/plain": [
              "KNeighborsClassifier(algorithm='auto', leaf_size=30, metric='minkowski',\n",
              "                     metric_params=None, n_jobs=None, n_neighbors=5, p=2,\n",
              "                     weights='uniform')"
            ]
          },
          "metadata": {
            "tags": []
          },
          "execution_count": 28
        }
      ]
    },
    {
      "cell_type": "code",
      "metadata": {
        "colab": {
          "base_uri": "https://localhost:8080/"
        },
        "id": "mL8i1xRYv5bV",
        "outputId": "813fa2bd-579d-4a4e-c2f8-46912abe19a7"
      },
      "source": [
        "y_pred = knn_final.predict(X)\r\n",
        "matrix = confusion_matrix(y, y_pred)\r\n",
        "class_accuracy = matrix.diagonal()/matrix.sum(axis=1)\r\n",
        "print(\"accuracy for rejections:\", class_accuracy[0], \"\\naccuracy for acceptances:\", class_accuracy[1])"
      ],
      "execution_count": 29,
      "outputs": [
        {
          "output_type": "stream",
          "text": [
            "accuracy for rejections: 0.5333333333333333 \n",
            "accuracy for acceptances: 0.8192771084337349\n"
          ],
          "name": "stdout"
        }
      ]
    },
    {
      "cell_type": "code",
      "metadata": {
        "id": "HshJIgDT4m2e"
      },
      "source": [
        "sat_score_for_prediction = 1450 #@param {type:\"integer\"}\n",
        "gpa_for_prediction =  3.45#@param {type:\"number\"}"
      ],
      "execution_count": 30,
      "outputs": []
    },
    {
      "cell_type": "code",
      "metadata": {
        "colab": {
          "base_uri": "https://localhost:8080/"
        },
        "id": "AHo-pR4k5sgj",
        "outputId": "a260b04f-4cd1-42c6-8c51-ee4f2be0a2fa"
      },
      "source": [
        "prediction = knn_final.predict_proba([[sat_score_for_prediction, gpa_for_prediction]])\r\n",
        "print(\" based on an SAT score of\", sat_score_for_prediction, \"and an unweighted gpa of \" + str(gpa_for_prediction) + \":\\n\")\r\n",
        "print(\"\", round(prediction[0][0] * 100,2), \"% chance of rejection\\n\", round(prediction[0][1] * 100, 2), \"% chance of acceptance\\n\")\r\n",
        "print(\" from\", k, \"votes (k = \" + str(k) + \")\")"
      ],
      "execution_count": 31,
      "outputs": [
        {
          "output_type": "stream",
          "text": [
            " based on an SAT score of 1450 and an unweighted gpa of 3.45:\n",
            "\n",
            " 40.0 % chance of rejection\n",
            " 60.0 % chance of acceptance\n",
            "\n",
            " from 5 votes (k = 5)\n"
          ],
          "name": "stdout"
        }
      ]
    },
    {
      "cell_type": "markdown",
      "metadata": {
        "id": "wj2SRDszqhk9"
      },
      "source": [
        "Out of curiousity, I wanted to see how well our data would work with other classifiers from the scikit-learn library"
      ]
    },
    {
      "cell_type": "code",
      "metadata": {
        "id": "J-EVLuTGqqN7"
      },
      "source": [
        "from sklearn.model_selection import cross_val_score"
      ],
      "execution_count": 32,
      "outputs": []
    },
    {
      "cell_type": "code",
      "metadata": {
        "colab": {
          "base_uri": "https://localhost:8080/"
        },
        "id": "0msfeU4GqwOB",
        "outputId": "57038818-f439-4977-a844-328928a71889"
      },
      "source": [
        "from sklearn.linear_model import LogisticRegression\r\n",
        "model = LogisticRegression()\r\n",
        "scores = cross_val_score(model, X, y, cv=10, scoring='accuracy') #10 fold cross validation since we are working with a small dataset\r\n",
        "print(scores.mean())"
      ],
      "execution_count": 33,
      "outputs": [
        {
          "output_type": "stream",
          "text": [
            "0.6487179487179489\n"
          ],
          "name": "stdout"
        }
      ]
    },
    {
      "cell_type": "code",
      "metadata": {
        "colab": {
          "base_uri": "https://localhost:8080/"
        },
        "id": "1hFnIJwwrJpC",
        "outputId": "81d404ae-6e10-4739-ea28-89b1de06f1eb"
      },
      "source": [
        "from xgboost import XGBClassifier\r\n",
        "model = XGBClassifier()\r\n",
        "scores = cross_val_score(model, X, y, cv=10, scoring='accuracy') #10 fold cross validation since we are working with a small dataset\r\n",
        "print(scores.mean())"
      ],
      "execution_count": 34,
      "outputs": [
        {
          "output_type": "stream",
          "text": [
            "0.5455128205128205\n"
          ],
          "name": "stdout"
        }
      ]
    },
    {
      "cell_type": "code",
      "metadata": {
        "colab": {
          "base_uri": "https://localhost:8080/"
        },
        "id": "pKAeDw4trhm-",
        "outputId": "05108864-946c-4d2b-9db6-7ee4f3b735e6"
      },
      "source": [
        "from sklearn import svm\r\n",
        "model = svm.SVC()\r\n",
        "scores = cross_val_score(model, X, y, cv=10, scoring='accuracy') #10 fold cross validation since we are working with a small dataset\r\n",
        "print(scores.mean())"
      ],
      "execution_count": 35,
      "outputs": [
        {
          "output_type": "stream",
          "text": [
            "0.6487179487179489\n"
          ],
          "name": "stdout"
        }
      ]
    },
    {
      "cell_type": "markdown",
      "metadata": {
        "id": "yeQ86PBRr_ga"
      },
      "source": [
        "It appears that Logistic Regression and SVM provide a seemingly higher score than our KNN model. I'm going to take a deeper look into Logistic Regression (just because I am more familiar with it than I am with SVM)"
      ]
    },
    {
      "cell_type": "code",
      "metadata": {
        "id": "ofvtYTjYsaiB"
      },
      "source": [
        "logreg = LogisticRegression(penalty='l2',C=0.1)"
      ],
      "execution_count": 36,
      "outputs": []
    },
    {
      "cell_type": "code",
      "metadata": {
        "colab": {
          "base_uri": "https://localhost:8080/"
        },
        "id": "bUUAwTEksfxx",
        "outputId": "3a018fe5-9247-49df-8c5b-a3d3f5e19b09"
      },
      "source": [
        "from sklearn.model_selection import train_test_split\r\n",
        "X_train, X_test, y_train, y_test = train_test_split(X, y, test_size=0.25, random_state=31)\r\n",
        "logreg.fit(X_train, y_train)"
      ],
      "execution_count": 37,
      "outputs": [
        {
          "output_type": "execute_result",
          "data": {
            "text/plain": [
              "LogisticRegression(C=0.1, class_weight=None, dual=False, fit_intercept=True,\n",
              "                   intercept_scaling=1, l1_ratio=None, max_iter=100,\n",
              "                   multi_class='auto', n_jobs=None, penalty='l2',\n",
              "                   random_state=None, solver='lbfgs', tol=0.0001, verbose=0,\n",
              "                   warm_start=False)"
            ]
          },
          "metadata": {
            "tags": []
          },
          "execution_count": 37
        }
      ]
    },
    {
      "cell_type": "code",
      "metadata": {
        "colab": {
          "base_uri": "https://localhost:8080/"
        },
        "id": "KGgR8a6CtpxJ",
        "outputId": "a768a5ae-0757-4a49-f3cf-22130f2b3d7c"
      },
      "source": [
        "logreg.predict(X_test)"
      ],
      "execution_count": 38,
      "outputs": [
        {
          "output_type": "execute_result",
          "data": {
            "text/plain": [
              "array([1, 1, 1, 1, 1, 1, 1, 1, 1, 1, 1, 1, 1, 1, 1, 1, 1, 1, 1, 1, 1, 1,\n",
              "       1, 1, 1, 1, 1, 1, 1, 1, 1, 1])"
            ]
          },
          "metadata": {
            "tags": []
          },
          "execution_count": 38
        }
      ]
    },
    {
      "cell_type": "markdown",
      "metadata": {
        "id": "O8pe8HHjtwVN"
      },
      "source": [
        "As we can see, logistic regression is just picking everyone as an admit. Let's see if this is reasonable given the testing labels"
      ]
    },
    {
      "cell_type": "code",
      "metadata": {
        "colab": {
          "base_uri": "https://localhost:8080/"
        },
        "id": "cXH9B20wt6jx",
        "outputId": "d1f165d1-a63e-41d9-c3ac-ce1872ddf232"
      },
      "source": [
        "y_test"
      ],
      "execution_count": 39,
      "outputs": [
        {
          "output_type": "execute_result",
          "data": {
            "text/plain": [
              "array([0, 0, 1, 1, 0, 0, 1, 1, 1, 1, 1, 0, 0, 0, 1, 0, 0, 0, 0, 1, 1, 1,\n",
              "       1, 1, 1, 1, 1, 1, 0, 1, 1, 1])"
            ]
          },
          "metadata": {
            "tags": []
          },
          "execution_count": 39
        }
      ]
    },
    {
      "cell_type": "markdown",
      "metadata": {
        "id": "N-8ajrL7ueyZ"
      },
      "source": [
        "It appears not. Looking back at the plot for KNN, we can see that guessing all acceptances will give us the exact score that the model is giving us. Encouraging the model to also guess rejections will likely bring down the accuracy to a level similar to that of our KNN model. Therefore, I feel that the additional complexity presented by using Logistic Regression is not justifiable, especially for such a tiny dataset"
      ]
    }
  ]
}